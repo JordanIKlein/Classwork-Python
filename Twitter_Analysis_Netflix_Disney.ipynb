{
 "cells": [
  {
   "cell_type": "code",
   "execution_count": 1,
   "metadata": {},
   "outputs": [
    {
     "name": "stdout",
     "output_type": "stream",
     "text": [
      "\n",
      "The following command must be run outside of the IPython shell:\n",
      "\n",
      "    $ pip install gender-guesser\n",
      "\n",
      "The Python package manager (pip) can only be used from outside of IPython.\n",
      "Please reissue the `pip` command in a separate terminal or command prompt.\n",
      "\n",
      "See the Python documentation for more information on how to install packages:\n",
      "\n",
      "    https://docs.python.org/3/installing/\n"
     ]
    }
   ],
   "source": [
    "pip install gender-guesser"
   ]
  },
  {
   "cell_type": "code",
   "execution_count": 2,
   "metadata": {},
   "outputs": [
    {
     "name": "stdout",
     "output_type": "stream",
     "text": [
      "\n",
      "The following command must be run outside of the IPython shell:\n",
      "\n",
      "    $ pip install wordcloud\n",
      "\n",
      "The Python package manager (pip) can only be used from outside of IPython.\n",
      "Please reissue the `pip` command in a separate terminal or command prompt.\n",
      "\n",
      "See the Python documentation for more information on how to install packages:\n",
      "\n",
      "    https://docs.python.org/3/installing/\n"
     ]
    }
   ],
   "source": [
    "pip install wordcloud"
   ]
  },
  {
   "cell_type": "code",
   "execution_count": 3,
   "metadata": {},
   "outputs": [
    {
     "name": "stdout",
     "output_type": "stream",
     "text": [
      "\n",
      "The following command must be run outside of the IPython shell:\n",
      "\n",
      "    $ pip install textblob\n",
      "\n",
      "The Python package manager (pip) can only be used from outside of IPython.\n",
      "Please reissue the `pip` command in a separate terminal or command prompt.\n",
      "\n",
      "See the Python documentation for more information on how to install packages:\n",
      "\n",
      "    https://docs.python.org/3/installing/\n"
     ]
    }
   ],
   "source": [
    "pip install textblob"
   ]
  },
  {
   "cell_type": "code",
   "execution_count": 4,
   "metadata": {},
   "outputs": [
    {
     "name": "stdout",
     "output_type": "stream",
     "text": [
      "\n",
      "The following command must be run outside of the IPython shell:\n",
      "\n",
      "    $ pip install tweepy\n",
      "\n",
      "The Python package manager (pip) can only be used from outside of IPython.\n",
      "Please reissue the `pip` command in a separate terminal or command prompt.\n",
      "\n",
      "See the Python documentation for more information on how to install packages:\n",
      "\n",
      "    https://docs.python.org/3/installing/\n"
     ]
    }
   ],
   "source": [
    "pip install tweepy"
   ]
  },
  {
   "cell_type": "code",
   "execution_count": 5,
   "metadata": {},
   "outputs": [],
   "source": [
    "import pandas as pd\n",
    "import tweepy\n",
    "import json\n",
    "import csv\n",
    "import os\n",
    "import gender_guesser.detector as gender\n",
    "from textblob import TextBlob\n",
    "from wordcloud import WordCloud, STOPWORDS\n",
    "import seaborn as sns\n",
    "import matplotlib.pyplot as plt\n",
    "%matplotlib inline"
   ]
  },
  {
   "cell_type": "markdown",
   "metadata": {},
   "source": [
    "# Netflix Analysis"
   ]
  },
  {
   "cell_type": "code",
   "execution_count": 6,
   "metadata": {},
   "outputs": [
    {
     "name": "stdout",
     "output_type": "stream",
     "text": [
      "                                                hashtags                   id  \\\n",
      "0                                                     []  1195031235430498304   \n",
      "1                                                     []  1195031242607124480   \n",
      "2                                                     []  1195031246990127105   \n",
      "3                                                     []  1195031247745093633   \n",
      "4                                                     []  1195031250676961288   \n",
      "5                                                     []  1195031254120443904   \n",
      "6                                                     []  1195031254271320065   \n",
      "7                                                     []  1195031256750284801   \n",
      "8                                                     []  1195031256909529093   \n",
      "9                                                     []  1195031258499362816   \n",
      "10                                                    []  1195031258679709696   \n",
      "11                                                    []  1195031261838028801   \n",
      "12                                                    []  1195031267869249537   \n",
      "13                                                    []  1195031268976742401   \n",
      "14                                                    []  1195031269584723968   \n",
      "15                                                    []  1195031270813831168   \n",
      "16                                                    []  1195031272046940160   \n",
      "17                                                    []  1195031275226066945   \n",
      "18                                                    []  1195031275536633857   \n",
      "19                                                    []  1195031277231104000   \n",
      "20                                                    []  1195031279093395456   \n",
      "21                                                    []  1195031286701838336   \n",
      "22                                                    []  1195031287125426176   \n",
      "23                                                    []  1195031295111372801   \n",
      "24                                                    []  1195031297464373248   \n",
      "25                                                    []  1195031297829281798   \n",
      "26                                                    []  1195031301671309314   \n",
      "27                                                    []  1195031306142461953   \n",
      "28                                                    []  1195031309300617216   \n",
      "29                                                    []  1195031309896364038   \n",
      "...                                                  ...                  ...   \n",
      "28916                                                 []  1195112038978244608   \n",
      "28917                                                 []  1195112039091322880   \n",
      "28918   ['FunkoHollywood', 'StrangerThings', 'FunkoPop']  1195112040626606080   \n",
      "28919  ['DragonAgeInquisition', 'JoJosBizarreAdventure']  1195112040932823042   \n",
      "28920                                                 []  1195112042497236992   \n",
      "28921                                                 []  1195112043424169984   \n",
      "28922                                                 []  1195112045416472577   \n",
      "28923                                                 []  1195112049430474752   \n",
      "28924                                                 []  1195112049816276993   \n",
      "28925                                                 []  1195112053817532416   \n",
      "28926                                                 []  1195112056724176896   \n",
      "28927                                                 []  1195112058041360385   \n",
      "28928                                                 []  1195112058066546689   \n",
      "28929                                                 []  1195112058460618752   \n",
      "28930                                                 []  1195112059169628162   \n",
      "28931                                                 []  1195112059802771456   \n",
      "28932                                                 []  1195112061744889857   \n",
      "28933   ['FunkoHollywood', 'StrangerThings', 'FunkoPop']  1195112063795785729   \n",
      "28934                                                 []  1195112067700793345   \n",
      "28935                                                 []  1195112072578785282   \n",
      "28936                                                 []  1195112072918523910   \n",
      "28937   ['FunkoHollywood', 'StrangerThings', 'FunkoPop']  1195112076425015298   \n",
      "28938                                                 []  1195112076555030530   \n",
      "28939                                                 []  1195112077863444485   \n",
      "28940                                                 []  1195112079809630209   \n",
      "28941                                                 []  1195112081642516481   \n",
      "28942                                                 []  1195112082032586752   \n",
      "28943                                                 []  1195112082762547202   \n",
      "28944                                                 []  1195112085589348355   \n",
      "28945                                                 []  1195112088504422401   \n",
      "\n",
      "                                                    text  \\\n",
      "0      RT @DiscussingFilm: Netflix has signed a multi...   \n",
      "1                                   Makes a ton of sense   \n",
      "2      RT @CarolineHobso10: I'm obsessed with @netfli...   \n",
      "3      RT @cozzzy__: these niggas putting superteams ...   \n",
      "4      RT @cozzzy__: these niggas putting superteams ...   \n",
      "5           If they not putting avatar on there ion care   \n",
      "6      RT @cozzzy__: these niggas putting superteams ...   \n",
      "7      RT @cozzzy__: these niggas putting superteams ...   \n",
      "8      RT @cozzzy__: these niggas putting superteams ...   \n",
      "9      RT @Ty_TooFly: Netflix said I ain’t goin out l...   \n",
      "10     RT @Ty_TooFly: Netflix said I ain’t goin out l...   \n",
      "11     Give me this NOW!!! @NetflixUK @netflix @Nicke...   \n",
      "12     RT @Ty_TooFly: Netflix said I ain’t goin out l...   \n",
      "13     RT @cozzzy__: these niggas putting superteams ...   \n",
      "14     RT @cozzzy__: these niggas putting superteams ...   \n",
      "15     RT @cozzzy__: these niggas putting superteams ...   \n",
      "16     @Andrew_pepsi @The_FlaSH_Blue @VancityReynolds...   \n",
      "17     RT @_Jstark3: We don’t want ya to produce shit...   \n",
      "18     RT @cozzzy__: these niggas putting superteams ...   \n",
      "19     Throw Back Thursday April 2017 me &amp; @arsen...   \n",
      "20     RT @cozzzy__: these niggas putting superteams ...   \n",
      "21     RT @Ty_TooFly: Netflix said I ain’t goin out l...   \n",
      "22     RT @cozzzy__: these niggas putting superteams ...   \n",
      "23     RT @Ty_TooFly: Netflix said I ain’t goin out l...   \n",
      "24     @Complex @netflix @Nickelodeon @cartoonnetwork...   \n",
      "25     RT @cozzzy__: these niggas putting superteams ...   \n",
      "26     RT @cozzzy__: these niggas putting superteams ...   \n",
      "27     Disney: *Links up with Hulu*\\n\\nNetflix: hold ...   \n",
      "28     RT @cozzzy__: these niggas putting superteams ...   \n",
      "29     RT @cozzzy__: these niggas putting superteams ...   \n",
      "...                                                  ...   \n",
      "28916  RT @cozzzy__: these niggas putting superteams ...   \n",
      "28917  RT @Ty_TooFly: Netflix said I ain’t goin out l...   \n",
      "28918  RT @MatthewModine: To celebrate the Grand Open...   \n",
      "28919  So I made a new Inquisitor on #DragonAgeInquis...   \n",
      "28920  RT @Ty_TooFly: Netflix said I ain’t goin out l...   \n",
      "28921  RT @Ty_TooFly: Netflix said I ain’t goin out l...   \n",
      "28922  RT @Ty_TooFly: Netflix said I ain’t goin out l...   \n",
      "28923  RT @Ty_TooFly: Netflix said I ain’t goin out l...   \n",
      "28924  RT @Ty_TooFly: Netflix said I ain’t goin out l...   \n",
      "28925  RT @Ty_TooFly: Netflix said I ain’t goin out l...   \n",
      "28926  RT @Ty_TooFly: Netflix said I ain’t goin out l...   \n",
      "28927  RT @Ty_TooFly: Netflix said I ain’t goin out l...   \n",
      "28928  RT @Ty_TooFly: Netflix said I ain’t goin out l...   \n",
      "28929  Hey Arnold\\nRugrats\\nCatDog\\nRocket Power\\n\\nR...   \n",
      "28930  RT @cozzzy__: these niggas putting superteams ...   \n",
      "28931  RT @Ty_TooFly: Netflix said I ain’t goin out l...   \n",
      "28932  RT @cozzzy__: these niggas putting superteams ...   \n",
      "28933  RT @MatthewModine: To celebrate the Grand Open...   \n",
      "28934  @nobuenobastian @mvddm @netflix @Nickelodeon D...   \n",
      "28935  RT @seedarneekevin: Spongebob being on Netflix...   \n",
      "28936  RT @cozzzy__: these niggas putting superteams ...   \n",
      "28937  RT @MatthewModine: To celebrate the Grand Open...   \n",
      "28938  RT @Ty_TooFly: Netflix said I ain’t goin out l...   \n",
      "28939  RT @cozzzy__: these niggas putting superteams ...   \n",
      "28940  RT @Ty_TooFly: Netflix said I ain’t goin out l...   \n",
      "28941  RT @Ty_TooFly: Netflix said I ain’t goin out l...   \n",
      "28942  RT @Ty_TooFly: Netflix said I ain’t goin out l...   \n",
      "28943  RT @Ty_TooFly: Netflix said I ain’t goin out l...   \n",
      "28944  RT @Ty_TooFly: Netflix said I ain’t goin out l...   \n",
      "28945  RT @DiscussingFilm: Netflix has signed a multi...   \n",
      "\n",
      "                         name             user                    user_loc  \\\n",
      "0            Josiel Versace❄️      josielitooo                San Jose, CA   \n",
      "1                Eternal Wind   PantherGodBast                           🌌   \n",
      "2                Bailey Spore      BaileySpore                         NaN   \n",
      "3                   shoncia🇬🇾         shoncia2                Georgia, USA   \n",
      "4                      Kenya🌸      Queenishhhh              Memphis, TN 〽️   \n",
      "5                      Jordan      _LifeOfCoop                          NJ   \n",
      "6               Amaya Jackson    Amayajacksonn                         NaN   \n",
      "7                Khaleb Gantt         khaleb1k                   Hollywood   \n",
      "8               Raiders (5-4)   Santiago_kid24         Probably on the ps4   \n",
      "9                   jo mf c 😈         joooocc_                         NaN   \n",
      "10                      marii        mariisali                  Texas, USA   \n",
      "11                   Seany D🤪      Sean_Donald                        Hell   \n",
      "12                     2020 👀           __tyah                         NaN   \n",
      "13                      Jordy      JAY_ROCK_58            Charles town, WV   \n",
      "14            Michael Tostado        MTostitos                         NaN   \n",
      "15                      Maceo      maceodgreen           The Woodlands, TX   \n",
      "16          Simon John Wilkin         SjWiLKiN                         NaN   \n",
      "17              Jasveen Dhatt      jasveen1997                         NaN   \n",
      "18          The village idiot       isaiah3232                 Laramie, WY   \n",
      "19                ARDIE FUQUA       ARDIEFUQUA    ÜT: 40.730736,-74.000723   \n",
      "20                     lovely        basedonrl                         NaN   \n",
      "21                    🌺SIMXN🌺         simn_xxv                      3:33am   \n",
      "22                         🤴🏼      mitchlarenz              Washington, DC   \n",
      "23                    farhana       farhanaax3                  Queens, NY   \n",
      "24     Juice Newton (HOU 6-3)        EliDeal17                  Loading...   \n",
      "25                          🎲     NuMeRo___Un0                         NaN   \n",
      "26                Jacqueline💋       vinylboobs                   Bronx, NY   \n",
      "27                 Kadoe 2x 🕊       KyFrmTheGo       Chicago 🛫 Fort Worth    \n",
      "28                         🇸🇻       Lorioceann                         NaN   \n",
      "29                    Maxwell     youngbull97_              Birmingham, AL   \n",
      "...                       ...              ...                         ...   \n",
      "28916                 brennen        sureboii_                         NaN   \n",
      "28917                    🥀Emí  EmilyEstefaniaX             California, USA   \n",
      "28918                   Alana      alanapookie                         NaN   \n",
      "28919          still_juliette          jrmurie               United States   \n",
      "28920                  Payton        PDeRanger              Louisiana, USA   \n",
      "28921        Ann Marie 🧚🏼‍♀️✨       Okashinami                Georgia, USA   \n",
      "28922                     -♡🌈  YoursCruellyIvy                         NaN   \n",
      "28923                Taylor🦃🍂   wolford_taylor          Point Pleasant, WV   \n",
      "28924           Saucy 🤸🏾‍♂️🇯🇲     yobitchlocal            me vs everybody    \n",
      "28925                  Razo⚡️     RalphyBoy_29                       SoCal   \n",
      "28926                 [pablo]   Pablo_chacon16                         NaN   \n",
      "28927                 Taylor🌞      tayylorwood              Birmingham, AL   \n",
      "28928              lil swervo         tay___x3                         NaN   \n",
      "28929                   L.E.W       iDefineEGO   Mile High ✈️ Everywhere    \n",
      "28930                    Ardy     ardiem_lopez                         NaN   \n",
      "28931         Deanna Bejarano      Gigggles101                 Lynwood, CA   \n",
      "28932            scorpioooo 🌹       azareerose                           ♡   \n",
      "28933        Anthony Schaffer          ants516                         NaN   \n",
      "28934                 tommy 💫      tommybravos                     Chicago   \n",
      "28935                    Matt    MattKillmeman                 Sanford, FL   \n",
      "28936                 kelly ✰       kellymumm_                         NaN   \n",
      "28937          Ethan matthews    EchoTuber_YT_                         NaN   \n",
      "28938        Satoshi Nakamoto      Nana_Stevie                Columbus, OH   \n",
      "28939               ThugNasty         MoanAyye            The Nightosphere   \n",
      "28940                   jessi       xojessikuh                       sama🥰   \n",
      "28941           Gurprince Rai  GurBurBabyFoods                  California   \n",
      "28942                   Soph🥀   _Sophia_Harris                    Oahu, HI   \n",
      "28943               Maya Carr        mayaycarr                  Dallas, TX   \n",
      "28944                   HBH 🕊            HBHMA                       North   \n",
      "28945                  Adapts     AdaptsTheGod          Below the heavens    \n",
      "\n",
      "                                               user_desc  user_followers  \\\n",
      "0                             O|||||||O | 23 ♑️ | 🚧👷🏽‍♂️             684   \n",
      "1      Awareness of self leads to pure appreciation a...             986   \n",
      "2                                                    LHS              76   \n",
      "3                                                      ✨             441   \n",
      "4                 A.P.E🦍🖤 Future Dental Assistant 🦷👩🏼‍⚕️             711   \n",
      "5                           Rowan ‘20 | IG: @_LifeOfCoop            1131   \n",
      "6                                                      ☻             436   \n",
      "7                                                    NaN             178   \n",
      "8      20 | RattPack| Peace, Love, and Positivity\\n2/...             332   \n",
      "9                              maggie Ann 👶🏼💜 | 20 | B 💘             114   \n",
      "10                       psja high ‘21 | may 2nd 🥳 | MBB             150   \n",
      "11     Part time actor :) I'd love to be a full time ...             388   \n",
      "12                                    unt’22 // gemini 🤪             457   \n",
      "13                             smooth operator, fun guy.             570   \n",
      "14                       Things will always get better 😊             273   \n",
      "15                                     R.I.P Marque❤️👼🏾,             206   \n",
      "16                         The end is nigh... it must be             234   \n",
      "17                                                   NaN             291   \n",
      "18     Ain't no destination the journey is everything...             613   \n",
      "19     Comedian. I seriously dont take myself too ser...            9203   \n",
      "20                                          loading...💀💭             175   \n",
      "21     • à la lune et retour • 🌈 • ★•*¨*•.¸¸ • tête-à...             237   \n",
      "22                   & he keep getting finer over time 😛            5329   \n",
      "23                                                   NaN              69   \n",
      "24                                                   NaN             522   \n",
      "25                                            SC: regpt2             777   \n",
      "26     The American Academy of Dramatic Arts Aspiring...             313   \n",
      "27     🏙 • Chicago Made 📍 • Texas Bound 🎶 • Affiliate...            2900   \n",
      "28                                     #blacklivesmatter             375   \n",
      "29                        LLBP3👼🏾🖤 | I just be trolling🥴             670   \n",
      "...                                                  ...             ...   \n",
      "28916                            Račhakwáhsthaʔ · 🍊’19             443   \n",
      "28917                Welcome back, xoxo.  LEO ♌️  \\nKL🌹❤             629   \n",
      "28918     Photographer. Proud mommy. Reality Tv Watcher.              28   \n",
      "28919  Gamer, medievalist, proud parent, and servant ...              24   \n",
      "28920  I believe in being humble and understanding wh...             655   \n",
      "28921                 🇵🇷 + 🇩🇴 | GSU 🎒👓 #StateNotSouthern            1127   \n",
      "28922  You're thinking about something my dear, and t...             487   \n",
      "28923                                 Rhett Matthew☀️🍼❤️             342   \n",
      "28924                               wussup fake ass ho ?             453   \n",
      "28925                                          ⚜️D.O.N⚜️             187   \n",
      "28926  I’m sure you’re period is a major inconvenienc...             381   \n",
      "28927                Just here for the twitter arguments             142   \n",
      "28928                                                 👸🏽             593   \n",
      "28929                           👩🏽‍⚕️🏥 SC/IG: iDefineEGO            4616   \n",
      "28930                                 Here for the memes             153   \n",
      "28931                      ⚽️💘 💪\\n   IG: Deez_Nuts_Bitch             163   \n",
      "28932                       i praise kodie shane a lot 🥺              77   \n",
      "28933  26 |PA | 🏳️‍🌈 | Environmental Engineer | ♉️| r...             162   \n",
      "28934  He/Him, ace trainer, waterbender, gay pop star...             682   \n",
      "28935                       I just wanna drive my Camaro              13   \n",
      "28936                                            LU 23 ✞             540   \n",
      "28937                                                NaN               2   \n",
      "28938                       |🇬🇭 | snapchat: nana_steviee             881   \n",
      "28939         ❤️ 24 🧡 Gemini 💛 Lucy 💚 K.Dramas 💙 Anime 💜             932   \n",
      "28940                                                  ✨             159   \n",
      "28941                  I can’t open my eyes when I smile             194   \n",
      "28942  quickest way to happiness is learning how to b...             396   \n",
      "28943  Tell these black kids they can be who they are...             197   \n",
      "28944     Let go of the past, now I’m moving light speed             107   \n",
      "28945     I’m an old soul / PSN: Adaptsthegod / Kianii 💕            1038   \n",
      "\n",
      "       user_friend  user_listed                    user_created  user_favs  \\\n",
      "0              474            4  Fri Mar 14 05:22:50 +0000 2014      87347   \n",
      "1              554           76  Tue May 17 02:55:17 +0000 2011       1432   \n",
      "2              185            0  Wed Sep 05 13:12:27 +0000 2018       6653   \n",
      "3              490            0  Wed Aug 15 23:46:12 +0000 2018       2444   \n",
      "4              487            9  Tue Feb 10 23:33:42 +0000 2015      30327   \n",
      "5              710            2  Fri Mar 09 23:56:58 +0000 2012       1202   \n",
      "6              181            0  Sun Mar 24 03:54:54 +0000 2013      19646   \n",
      "7               65            2  Sat Mar 22 20:06:14 +0000 2014       5568   \n",
      "8              316            6  Tue Jul 23 04:57:42 +0000 2013      81845   \n",
      "9              153            0  Fri Sep 15 05:52:21 +0000 2017        968   \n",
      "10             143            0  Fri Jun 22 20:23:07 +0000 2018       6387   \n",
      "11             839           15  Fri Jan 08 10:53:51 +0000 2010      25670   \n",
      "12             422            1  Mon Jun 10 20:20:37 +0000 2013      32829   \n",
      "13             584            8  Tue May 13 01:48:52 +0000 2014      71467   \n",
      "14             394            0  Sun Nov 22 09:49:46 +0000 2015      22061   \n",
      "15             739            0  Tue Feb 27 23:50:45 +0000 2018      22902   \n",
      "16              77           10  Tue Sep 29 12:25:38 +0000 2009      22229   \n",
      "17             174            1  Mon Apr 06 20:00:37 +0000 2015      33751   \n",
      "18             968            3  Tue Jun 12 02:41:46 +0000 2012      14952   \n",
      "19            5866          162  Tue Mar 24 21:49:46 +0000 2009        982   \n",
      "20             142            0  Sat Jan 21 17:05:51 +0000 2017      21958   \n",
      "21             262            3  Wed Sep 25 20:45:53 +0000 2013       5759   \n",
      "22            3344           35  Wed Jun 08 00:27:05 +0000 2011      45347   \n",
      "23              55            0  Wed Feb 07 03:54:52 +0000 2018       3681   \n",
      "24             402            1  Mon Mar 24 22:19:42 +0000 2014      25316   \n",
      "25             651            4  Tue Aug 13 15:10:58 +0000 2013      16712   \n",
      "26             298            3  Sat Aug 08 16:42:54 +0000 2015      35053   \n",
      "27            3822            3  Thu Aug 09 09:17:38 +0000 2012       6582   \n",
      "28             316            0  Tue Jul 12 04:45:59 +0000 2016       3782   \n",
      "29             839            1  Mon Mar 23 05:18:00 +0000 2015      10384   \n",
      "...            ...          ...                             ...        ...   \n",
      "28916          245            2  Sat Dec 03 03:21:07 +0000 2011      10114   \n",
      "28917          294            1  Wed Jun 29 05:42:50 +0000 2011      37401   \n",
      "28918          423            2  Mon Mar 16 22:52:48 +0000 2015        158   \n",
      "28919          165            0  Sat Aug 22 23:31:45 +0000 2015       1498   \n",
      "28920          525            0  Tue Dec 23 16:59:23 +0000 2014      16012   \n",
      "28921          819            5  Mon Mar 12 12:36:30 +0000 2012      93662   \n",
      "28922          172            7  Sat Sep 19 23:04:15 +0000 2009       7467   \n",
      "28923          277            0  Tue Nov 12 02:41:14 +0000 2013      29782   \n",
      "28924          502            2  Sun Mar 20 14:17:50 +0000 2011      16321   \n",
      "28925          143            3  Mon Jan 25 03:47:43 +0000 2016      10541   \n",
      "28926          204            1  Mon Jan 19 14:30:26 +0000 2015       1942   \n",
      "28927          269            0  Fri Jun 03 04:26:03 +0000 2016       5777   \n",
      "28928          381            0  Fri Sep 19 02:15:57 +0000 2014       5408   \n",
      "28929          848           45  Fri Mar 27 05:26:50 +0000 2009       3570   \n",
      "28930          328            1  Sat Jun 01 02:55:54 +0000 2013       2168   \n",
      "28931          161            0  Fri Dec 27 08:39:58 +0000 2013       5738   \n",
      "28932          344            0  Mon Mar 27 03:16:10 +0000 2017       5147   \n",
      "28933          508           13  Fri Jan 15 06:09:33 +0000 2010       1154   \n",
      "28934          485            3  Sun Apr 10 01:33:30 +0000 2011      92688   \n",
      "28935          105            0  Wed Dec 02 22:54:35 +0000 2009       1697   \n",
      "28936          321            0  Tue Jul 07 21:56:04 +0000 2015       6934   \n",
      "28937           54            0  Fri Sep 21 00:41:36 +0000 2018        131   \n",
      "28938          835            5  Wed Feb 12 04:06:01 +0000 2014      17041   \n",
      "28939          487            1  Sat Jan 23 22:18:47 +0000 2010      12465   \n",
      "28940           95            1  Sat Apr 30 03:47:31 +0000 2016      50567   \n",
      "28941          105            0  Sun Jul 17 04:15:32 +0000 2011       4277   \n",
      "28942          270            2  Fri Feb 12 20:10:35 +0000 2016      14543   \n",
      "28943          194            0  Wed Jul 27 05:52:45 +0000 2016      66026   \n",
      "28944           59            0  Wed Jan 09 21:59:45 +0000 2013        348   \n",
      "28945          225           25  Fri Sep 14 07:05:12 +0000 2012      51812   \n",
      "\n",
      "       user_statuses  \n",
      "0              68339  \n",
      "1             406871  \n",
      "2                624  \n",
      "3              38318  \n",
      "4              33454  \n",
      "5              26195  \n",
      "6               9473  \n",
      "7               2065  \n",
      "8              61399  \n",
      "9               3211  \n",
      "10              6408  \n",
      "11             25268  \n",
      "12             31527  \n",
      "13             34449  \n",
      "14              6203  \n",
      "15              9197  \n",
      "16             17376  \n",
      "17              9395  \n",
      "18             22766  \n",
      "19             36320  \n",
      "20             23464  \n",
      "21             19621  \n",
      "22            102125  \n",
      "23               538  \n",
      "24             12717  \n",
      "25             37190  \n",
      "26             25823  \n",
      "27              9204  \n",
      "28             22766  \n",
      "29             13651  \n",
      "...              ...  \n",
      "28916           1397  \n",
      "28917          16621  \n",
      "28918            362  \n",
      "28919            627  \n",
      "28920          13571  \n",
      "28921          66401  \n",
      "28922          61632  \n",
      "28923          24238  \n",
      "28924          42511  \n",
      "28925          11602  \n",
      "28926           4594  \n",
      "28927           2194  \n",
      "28928           6379  \n",
      "28929         159851  \n",
      "28930           1292  \n",
      "28931           5461  \n",
      "28932           2307  \n",
      "28933           3235  \n",
      "28934           8623  \n",
      "28935            431  \n",
      "28936            717  \n",
      "28937            105  \n",
      "28938          26317  \n",
      "28939         117204  \n",
      "28940           7526  \n",
      "28941          23739  \n",
      "28942           4088  \n",
      "28943          16464  \n",
      "28944          21153  \n",
      "28945         100754  \n",
      "\n",
      "[28946 rows x 13 columns]\n"
     ]
    }
   ],
   "source": [
    "df = pd.read_csv (r'twitter_outputNetflix.csv')\n",
    "df.columns = ['hashtags','id','text','name', 'user', 'user_loc', 'user_desc', 'user_followers', 'user_friend', 'user_listed', 'user_created', 'user_favs','user_statuses']\n",
    "print (df)"
   ]
  },
  {
   "cell_type": "markdown",
   "metadata": {},
   "source": [
    "## Gender Guesser"
   ]
  },
  {
   "cell_type": "code",
   "execution_count": 7,
   "metadata": {},
   "outputs": [
    {
     "name": "stdout",
     "output_type": "stream",
     "text": [
      "unknown          26765\n",
      "male              1190\n",
      "female             737\n",
      "mostly_male        132\n",
      "mostly_female       62\n",
      "andy                60\n",
      "Name: GenderPrediction, dtype: int64\n"
     ]
    }
   ],
   "source": [
    "detector = gender.Detector()\n",
    "gender_predictions = []\n",
    "for name in df['name']:\n",
    "    genderPrediction = detector.get_gender(name)\n",
    "    gender_predictions.append(genderPrediction)\n",
    "\n",
    "df['GenderPrediction'] = gender_predictions\n",
    "print(df['GenderPrediction'].value_counts())"
   ]
  },
  {
   "cell_type": "markdown",
   "metadata": {},
   "source": [
    "## Word Cloud"
   ]
  },
  {
   "cell_type": "code",
   "execution_count": 8,
   "metadata": {},
   "outputs": [
    {
     "data": {
      "image/png": "[encoded data removed]",
      "text/plain": [
       "<Figure size 576x576 with 1 Axes>"
      ]
     },
     "metadata": {},
     "output_type": "display_data"
    }
   ],
   "source": [
    "from collections import Counter\n",
    "words = []\n",
    "for tweet in df['text']:\n",
    "    tweet = str(tweet).lower() # Convert to string\n",
    "    tweets = [i  for i in tweet.split()] # Grab individual tags\n",
    "    for word in tweets: # Loop through all potential tags\n",
    "        if word != \"\":\n",
    "            words.append(word) # Add a tag if it's not empty\n",
    "            \n",
    "word_map = Counter(words) # Variable that holds all hashtag counts\n",
    "handles=[]\n",
    "links=[]\n",
    "company_name=[]\n",
    "for key in word_map:\n",
    "    if '@' in key:\n",
    "        handles.append(key)\n",
    "    elif 'https' in key:\n",
    "        links.append(key)\n",
    "stopwords = set(STOPWORDS)\n",
    "stopwords.update([\"rt\"])\n",
    "stopwords.update(handles)\n",
    "stopwords.update(links)\n",
    "stopwords.update(company_name)\n",
    "delete=[key for key in word_map if key in stopwords]\n",
    "for key in delete:\n",
    "    del word_map[key]\n",
    "wordcloud = WordCloud(stopwords=stopwords, width = 2000, height = 800, \n",
    "                background_color ='white', \n",
    "                min_font_size = 10).generate_from_frequencies(word_map)\n",
    "\n",
    "plt.figure(figsize = (8, 8), facecolor = None) \n",
    "plt.imshow(wordcloud, interpolation='bilinear') \n",
    "plt.axis(\"off\") \n",
    "plt.tight_layout(pad = 0)\n",
    "plt.show()"
   ]
  },
  {
   "cell_type": "markdown",
   "metadata": {},
   "source": [
    "## Frequency of Location"
   ]
  },
  {
   "cell_type": "code",
   "execution_count": 9,
   "metadata": {
    "scrolled": true
   },
   "outputs": [
    {
     "name": "stdout",
     "output_type": "stream",
     "text": [
      "Houston, TX           454\n",
      "Los Angeles, CA       401\n",
      "United States         268\n",
      "California, USA       253\n",
      "Chicago, IL           208\n",
      "                     ... \n",
      "530                     1\n",
      "So-Cal ☀                1\n",
      "Basketball              1\n",
      "RiP John&Shawn 💔🌕🌹      1\n",
      "hou, tx                 1\n",
      "Name: user_loc, Length: 9560, dtype: int64\n"
     ]
    }
   ],
   "source": [
    "print(df['user_loc'].value_counts())"
   ]
  },
  {
   "cell_type": "markdown",
   "metadata": {},
   "source": [
    "## Frequency of Hashtags"
   ]
  },
  {
   "cell_type": "code",
   "execution_count": 10,
   "metadata": {
    "scrolled": true
   },
   "outputs": [
    {
     "name": "stdout",
     "output_type": "stream",
     "text": [
      "[]                                                                           26328\n",
      "['FunkoHollywood', 'StrangerThings', 'FunkoPop']                               771\n",
      "['6Underground', 'Bayhem']                                                     327\n",
      "['Netflix']                                                                    127\n",
      "['StrangerThings']                                                              80\n",
      "                                                                             ...  \n",
      "['MyCountry', 'SaveMe']                                                          1\n",
      "['JJSneed']                                                                      1\n",
      "['OfficeLadies', 'netflix']                                                      1\n",
      "['NewProfiIePic', 'JJSneed', 'DollyPartonHeartstrings', 'ColinODonoghue']        1\n",
      "['netflix', 'disneyplus', 'streaming']                                           1\n",
      "Name: hashtags, Length: 617, dtype: int64\n"
     ]
    }
   ],
   "source": [
    "print(df['hashtags'].value_counts())"
   ]
  },
  {
   "cell_type": "markdown",
   "metadata": {},
   "source": [
    "## Frequency of name"
   ]
  },
  {
   "cell_type": "code",
   "execution_count": 11,
   "metadata": {},
   "outputs": [
    {
     "name": "stdout",
     "output_type": "stream",
     "text": [
      ".                          74\n",
      "BatBTeam2Gether            39\n",
      "Veronica                   35\n",
      "J                          32\n",
      "Sandy Avila                30\n",
      "                           ..\n",
      "I go, you go, we all go     1\n",
      "mena                        1\n",
      "Valencia🌪                   1\n",
      "Jian                        1\n",
      "èstacey                     1\n",
      "Name: name, Length: 24612, dtype: int64\n"
     ]
    }
   ],
   "source": [
    "print(df['name'].value_counts())"
   ]
  },
  {
   "cell_type": "markdown",
   "metadata": {},
   "source": [
    "## Frequency of Followers"
   ]
  },
  {
   "cell_type": "code",
   "execution_count": 42,
   "metadata": {
    "scrolled": true
   },
   "outputs": [
    {
     "name": "stdout",
     "output_type": "stream",
     "text": [
      "112       82\n",
      "0         70\n",
      "87        65\n",
      "86        65\n",
      "607       61\n",
      "          ..\n",
      "7335       1\n",
      "646319     1\n",
      "2699       1\n",
      "3253       1\n",
      "2047       1\n",
      "Name: user_followers, Length: 3532, dtype: int64\n",
      "6819272\n",
      "0\n",
      "59835.06901644388\n"
     ]
    }
   ],
   "source": [
    "print(df['user_followers'].value_counts())\n",
    "print(df['user_followers'].max())\n",
    "print(df['user_followers'].min())\n",
    "print(df['user_followers'].std())"
   ]
  },
  {
   "cell_type": "markdown",
   "metadata": {},
   "source": [
    "## Number of Retweets using Regex to find the RT in the text of the twitter"
   ]
  },
  {
   "cell_type": "code",
   "execution_count": 13,
   "metadata": {},
   "outputs": [
    {
     "name": "stdout",
     "output_type": "stream",
     "text": [
      "14706\n"
     ]
    }
   ],
   "source": [
    "import re\n",
    "dfnumpy= df['text'].to_string()\n",
    "regex = r'[^R-R][T-T]+.{2,}'\n",
    "print(len(re.compile(regex).findall(dfnumpy)))"
   ]
  },
  {
   "cell_type": "markdown",
   "metadata": {},
   "source": [
    "## Polarity Scoring"
   ]
  },
  {
   "cell_type": "code",
   "execution_count": 14,
   "metadata": {},
   "outputs": [],
   "source": [
    "polarity_score_Netflix = []\n",
    "subjectivity_score_Netflix = []\n",
    "for text in df['text']:\n",
    "    blob = TextBlob(text)\n",
    "    polarity_score_Netflix.append(blob.sentiment.polarity)\n",
    "    subjectivity_score_Netflix.append(blob.sentiment.subjectivity)\n",
    "    \n",
    "df['PolarityScore'] = polarity_score_Netflix\n",
    "df['SubjectivityScore'] = subjectivity_score_Netflix"
   ]
  },
  {
   "cell_type": "code",
   "execution_count": 15,
   "metadata": {
    "scrolled": true
   },
   "outputs": [
    {
     "data": {
      "text/html": [
       "<div>\n",
       "<style scoped>\n",
       "    .dataframe tbody tr th:only-of-type {\n",
       "        vertical-align: middle;\n",
       "    }\n",
       "\n",
       "    .dataframe tbody tr th {\n",
       "        vertical-align: top;\n",
       "    }\n",
       "\n",
       "    .dataframe thead th {\n",
       "        text-align: right;\n",
       "    }\n",
       "</style>\n",
       "<table border=\"1\" class=\"dataframe\">\n",
       "  <thead>\n",
       "    <tr style=\"text-align: right;\">\n",
       "      <th></th>\n",
       "      <th>id</th>\n",
       "      <th>user_followers</th>\n",
       "      <th>user_friend</th>\n",
       "      <th>user_listed</th>\n",
       "      <th>user_favs</th>\n",
       "      <th>user_statuses</th>\n",
       "      <th>PolarityScore</th>\n",
       "      <th>SubjectivityScore</th>\n",
       "    </tr>\n",
       "  </thead>\n",
       "  <tbody>\n",
       "    <tr>\n",
       "      <td>count</td>\n",
       "      <td>2.894600e+04</td>\n",
       "      <td>2.894600e+04</td>\n",
       "      <td>28946.000000</td>\n",
       "      <td>28946.000000</td>\n",
       "      <td>2.894600e+04</td>\n",
       "      <td>2.894600e+04</td>\n",
       "      <td>28946.000000</td>\n",
       "      <td>28946.000000</td>\n",
       "    </tr>\n",
       "    <tr>\n",
       "      <td>mean</td>\n",
       "      <td>1.195069e+18</td>\n",
       "      <td>2.109731e+03</td>\n",
       "      <td>757.523630</td>\n",
       "      <td>16.839149</td>\n",
       "      <td>2.540206e+04</td>\n",
       "      <td>3.081066e+04</td>\n",
       "      <td>0.050322</td>\n",
       "      <td>0.121908</td>\n",
       "    </tr>\n",
       "    <tr>\n",
       "      <td>std</td>\n",
       "      <td>1.877509e+13</td>\n",
       "      <td>5.983507e+04</td>\n",
       "      <td>2824.488182</td>\n",
       "      <td>269.761001</td>\n",
       "      <td>4.329127e+04</td>\n",
       "      <td>5.744788e+04</td>\n",
       "      <td>0.185329</td>\n",
       "      <td>0.272511</td>\n",
       "    </tr>\n",
       "    <tr>\n",
       "      <td>min</td>\n",
       "      <td>1.195031e+18</td>\n",
       "      <td>0.000000e+00</td>\n",
       "      <td>0.000000</td>\n",
       "      <td>0.000000</td>\n",
       "      <td>0.000000e+00</td>\n",
       "      <td>1.000000e+00</td>\n",
       "      <td>-1.000000</td>\n",
       "      <td>0.000000</td>\n",
       "    </tr>\n",
       "    <tr>\n",
       "      <td>25%</td>\n",
       "      <td>1.195055e+18</td>\n",
       "      <td>1.740000e+02</td>\n",
       "      <td>211.000000</td>\n",
       "      <td>0.000000</td>\n",
       "      <td>4.231000e+03</td>\n",
       "      <td>4.736000e+03</td>\n",
       "      <td>0.000000</td>\n",
       "      <td>0.000000</td>\n",
       "    </tr>\n",
       "    <tr>\n",
       "      <td>50%</td>\n",
       "      <td>1.195068e+18</td>\n",
       "      <td>3.920000e+02</td>\n",
       "      <td>403.000000</td>\n",
       "      <td>1.000000</td>\n",
       "      <td>1.228650e+04</td>\n",
       "      <td>1.407700e+04</td>\n",
       "      <td>0.000000</td>\n",
       "      <td>0.000000</td>\n",
       "    </tr>\n",
       "    <tr>\n",
       "      <td>75%</td>\n",
       "      <td>1.195084e+18</td>\n",
       "      <td>8.170000e+02</td>\n",
       "      <td>775.000000</td>\n",
       "      <td>5.000000</td>\n",
       "      <td>3.040650e+04</td>\n",
       "      <td>3.558575e+04</td>\n",
       "      <td>0.000000</td>\n",
       "      <td>0.000000</td>\n",
       "    </tr>\n",
       "    <tr>\n",
       "      <td>max</td>\n",
       "      <td>1.195112e+18</td>\n",
       "      <td>6.819272e+06</td>\n",
       "      <td>261831.000000</td>\n",
       "      <td>22190.000000</td>\n",
       "      <td>2.266299e+06</td>\n",
       "      <td>2.374358e+06</td>\n",
       "      <td>1.000000</td>\n",
       "      <td>1.000000</td>\n",
       "    </tr>\n",
       "  </tbody>\n",
       "</table>\n",
       "</div>"
      ],
      "text/plain": [
       "                 id  user_followers    user_friend   user_listed  \\\n",
       "count  2.894600e+04    2.894600e+04   28946.000000  28946.000000   \n",
       "mean   1.195069e+18    2.109731e+03     757.523630     16.839149   \n",
       "std    1.877509e+13    5.983507e+04    2824.488182    269.761001   \n",
       "min    1.195031e+18    0.000000e+00       0.000000      0.000000   \n",
       "25%    1.195055e+18    1.740000e+02     211.000000      0.000000   \n",
       "50%    1.195068e+18    3.920000e+02     403.000000      1.000000   \n",
       "75%    1.195084e+18    8.170000e+02     775.000000      5.000000   \n",
       "max    1.195112e+18    6.819272e+06  261831.000000  22190.000000   \n",
       "\n",
       "          user_favs  user_statuses  PolarityScore  SubjectivityScore  \n",
       "count  2.894600e+04   2.894600e+04   28946.000000       28946.000000  \n",
       "mean   2.540206e+04   3.081066e+04       0.050322           0.121908  \n",
       "std    4.329127e+04   5.744788e+04       0.185329           0.272511  \n",
       "min    0.000000e+00   1.000000e+00      -1.000000           0.000000  \n",
       "25%    4.231000e+03   4.736000e+03       0.000000           0.000000  \n",
       "50%    1.228650e+04   1.407700e+04       0.000000           0.000000  \n",
       "75%    3.040650e+04   3.558575e+04       0.000000           0.000000  \n",
       "max    2.266299e+06   2.374358e+06       1.000000           1.000000  "
      ]
     },
     "execution_count": 15,
     "metadata": {},
     "output_type": "execute_result"
    }
   ],
   "source": [
    "df.describe()"
   ]
  },
  {
   "cell_type": "markdown",
   "metadata": {},
   "source": [
    "# Disney Analysis"
   ]
  },
  {
   "cell_type": "code",
   "execution_count": 16,
   "metadata": {},
   "outputs": [
    {
     "name": "stdout",
     "output_type": "stream",
     "text": [
      "      hashtags                   id  \\\n",
      "0           []  1195031235430498304   \n",
      "1           []  1195031242607124480   \n",
      "2           []  1195031246990127105   \n",
      "3           []  1195031247745093633   \n",
      "4           []  1195031250676961288   \n",
      "...        ...                  ...   \n",
      "28941       []  1195112081642516481   \n",
      "28942       []  1195112082032586752   \n",
      "28943       []  1195112082762547202   \n",
      "28944       []  1195112085589348355   \n",
      "28945       []  1195112088504422401   \n",
      "\n",
      "                                                    text              name  \\\n",
      "0      RT @DiscussingFilm: Netflix has signed a multi...  Josiel Versace❄️   \n",
      "1                                   Makes a ton of sense      Eternal Wind   \n",
      "2      RT @CarolineHobso10: I'm obsessed with @netfli...      Bailey Spore   \n",
      "3      RT @cozzzy__: these niggas putting superteams ...         shoncia🇬🇾   \n",
      "4      RT @cozzzy__: these niggas putting superteams ...            Kenya🌸   \n",
      "...                                                  ...               ...   \n",
      "28941  RT @Ty_TooFly: Netflix said I ain’t goin out l...     Gurprince Rai   \n",
      "28942  RT @Ty_TooFly: Netflix said I ain’t goin out l...             Soph🥀   \n",
      "28943  RT @Ty_TooFly: Netflix said I ain’t goin out l...         Maya Carr   \n",
      "28944  RT @Ty_TooFly: Netflix said I ain’t goin out l...             HBH 🕊   \n",
      "28945  RT @DiscussingFilm: Netflix has signed a multi...            Adapts   \n",
      "\n",
      "                  user            user_loc  \\\n",
      "0          josielitooo        San Jose, CA   \n",
      "1       PantherGodBast                   🌌   \n",
      "2          BaileySpore                 NaN   \n",
      "3             shoncia2        Georgia, USA   \n",
      "4          Queenishhhh      Memphis, TN 〽️   \n",
      "...                ...                 ...   \n",
      "28941  GurBurBabyFoods          California   \n",
      "28942   _Sophia_Harris            Oahu, HI   \n",
      "28943        mayaycarr          Dallas, TX   \n",
      "28944            HBHMA               North   \n",
      "28945     AdaptsTheGod  Below the heavens    \n",
      "\n",
      "                                               user_desc  user_followers  \\\n",
      "0                             O|||||||O | 23 ♑️ | 🚧👷🏽‍♂️             684   \n",
      "1      Awareness of self leads to pure appreciation a...             986   \n",
      "2                                                    LHS              76   \n",
      "3                                                      ✨             441   \n",
      "4                 A.P.E🦍🖤 Future Dental Assistant 🦷👩🏼‍⚕️             711   \n",
      "...                                                  ...             ...   \n",
      "28941                  I can’t open my eyes when I smile             194   \n",
      "28942  quickest way to happiness is learning how to b...             396   \n",
      "28943  Tell these black kids they can be who they are...             197   \n",
      "28944     Let go of the past, now I’m moving light speed             107   \n",
      "28945     I’m an old soul / PSN: Adaptsthegod / Kianii 💕            1038   \n",
      "\n",
      "       user_friend  user_listed                    user_created  user_favs  \\\n",
      "0              474            4  Fri Mar 14 05:22:50 +0000 2014      87347   \n",
      "1              554           76  Tue May 17 02:55:17 +0000 2011       1432   \n",
      "2              185            0  Wed Sep 05 13:12:27 +0000 2018       6653   \n",
      "3              490            0  Wed Aug 15 23:46:12 +0000 2018       2444   \n",
      "4              487            9  Tue Feb 10 23:33:42 +0000 2015      30327   \n",
      "...            ...          ...                             ...        ...   \n",
      "28941          105            0  Sun Jul 17 04:15:32 +0000 2011       4277   \n",
      "28942          270            2  Fri Feb 12 20:10:35 +0000 2016      14543   \n",
      "28943          194            0  Wed Jul 27 05:52:45 +0000 2016      66026   \n",
      "28944           59            0  Wed Jan 09 21:59:45 +0000 2013        348   \n",
      "28945          225           25  Fri Sep 14 07:05:12 +0000 2012      51812   \n",
      "\n",
      "       user_statuses GenderPrediction  PolarityScore  SubjectivityScore  \n",
      "0              68339          unknown       0.375000           0.750000  \n",
      "1             406871          unknown       0.000000           0.000000  \n",
      "2                624          unknown       0.025758           0.559242  \n",
      "3              38318          unknown       0.000000           0.000000  \n",
      "4              33454          unknown       0.000000           0.000000  \n",
      "...              ...              ...            ...                ...  \n",
      "28941          23739          unknown       0.000000           0.000000  \n",
      "28942           4088          unknown       0.000000           0.000000  \n",
      "28943          16464          unknown       0.000000           0.000000  \n",
      "28944          21153          unknown       0.000000           0.000000  \n",
      "28945         100754          unknown       0.375000           0.750000  \n",
      "\n",
      "[28946 rows x 16 columns]\n"
     ]
    }
   ],
   "source": [
    "dfDisney = pd.read_csv (r'twitter_outputDisney.csv') #Reading in the csv file\n",
    "dfDisney.columns = ['hashtags','id','text','name', 'user', 'user_loc', 'user_desc', 'user_followers', 'user_friend', 'user_listed', 'user_created', 'user_favs','user_statuses'] #Columns for the twitter data\n",
    "print (df)"
   ]
  },
  {
   "cell_type": "markdown",
   "metadata": {},
   "source": [
    "## Gender Guesser"
   ]
  },
  {
   "cell_type": "code",
   "execution_count": 19,
   "metadata": {},
   "outputs": [
    {
     "name": "stdout",
     "output_type": "stream",
     "text": [
      "unknown          9942\n",
      "female            335\n",
      "male              305\n",
      "mostly_male        46\n",
      "mostly_female      35\n",
      "andy               13\n",
      "Name: GenderPrediction, dtype: int64\n"
     ]
    }
   ],
   "source": [
    "detector = gender.Detector()\n",
    "gender_predictions = [] #creates a file for where gender can be stored along with a name\n",
    "for name in dfDisney['name']:\n",
    "    genderPrediction = detector.get_gender(name) #gets the gender based off of the name\n",
    "    gender_predictions.append(genderPrediction) # predicts the gender here\n",
    "\n",
    "dfDisney['GenderPrediction'] = gender_predictions\n",
    "print(dfDisney['GenderPrediction'].value_counts())"
   ]
  },
  {
   "cell_type": "markdown",
   "metadata": {},
   "source": [
    "## Frequency of Location"
   ]
  },
  {
   "cell_type": "code",
   "execution_count": 20,
   "metadata": {},
   "outputs": [
    {
     "name": "stdout",
     "output_type": "stream",
     "text": [
      "Los Angeles, CA                 219\n",
      "United States                   187\n",
      "California, USA                  85\n",
      "Orlando, FL                      75\n",
      "Texas, USA                       71\n",
      "                               ... \n",
      "Wtw                               1\n",
      "Illinois, USA; St. Louis, MO      1\n",
      "Sherman, TX                       1\n",
      "Wichita Falls, TX                 1\n",
      "In your mind.                     1\n",
      "Name: user_loc, Length: 3676, dtype: int64\n"
     ]
    }
   ],
   "source": [
    "print(dfDisney['user_loc'].value_counts())"
   ]
  },
  {
   "cell_type": "markdown",
   "metadata": {},
   "source": [
    "## Frequency of Hashtags"
   ]
  },
  {
   "cell_type": "code",
   "execution_count": 21,
   "metadata": {},
   "outputs": [
    {
     "name": "stdout",
     "output_type": "stream",
     "text": [
      "[]                                                            3201\n",
      "['disneyplus']                                                1363\n",
      "['DisneyPlus']                                                1315\n",
      "['StarWars']                                                   419\n",
      "['Disney', 'DisneyPlus']                                       156\n",
      "                                                              ... \n",
      "['fraudulent']                                                   1\n",
      "['Disneyland', 'IndianaJones']                                   1\n",
      "['disney', 'ISimpson']                                           1\n",
      "['StarWars', 'PlayStation4', 'eBay']                             1\n",
      "['MinnieMouse', 'CookieAnn', 'ADisneyChristmas', 'Disney']       1\n",
      "Name: hashtags, Length: 1756, dtype: int64\n"
     ]
    }
   ],
   "source": [
    "print(dfDisney['hashtags'].value_counts())"
   ]
  },
  {
   "cell_type": "markdown",
   "metadata": {},
   "source": [
    "## Frequency of Name"
   ]
  },
  {
   "cell_type": "code",
   "execution_count": 22,
   "metadata": {},
   "outputs": [
    {
     "name": "stdout",
     "output_type": "stream",
     "text": [
      "Lyft Guy                                     61\n",
      "Gina                                         41\n",
      "DL Stats                                     34\n",
      "IcecreamSelfie                               33\n",
      "Neal Wertanen                                30\n",
      "                                             ..\n",
      "Jim Girardi                                   1\n",
      "X chet hamby sr.  a very proud deplorable     1\n",
      "Christian Alvarez⛵️                           1\n",
      "HoneyBun 🍯💋                                   1\n",
      "Rollin Through WDW                            1\n",
      "Name: name, Length: 8716, dtype: int64\n"
     ]
    }
   ],
   "source": [
    "print(dfDisney['name'].value_counts())"
   ]
  },
  {
   "cell_type": "markdown",
   "metadata": {},
   "source": [
    "## Frequency of Followers"
   ]
  },
  {
   "cell_type": "code",
   "execution_count": 43,
   "metadata": {},
   "outputs": [
    {
     "name": "stdout",
     "output_type": "stream",
     "text": [
      "0        101\n",
      "5         99\n",
      "1         60\n",
      "8         58\n",
      "3         55\n",
      "        ... \n",
      "89857      1\n",
      "1794       1\n",
      "7678       1\n",
      "1842       1\n",
      "71633      1\n",
      "Name: user_followers, Length: 2788, dtype: int64\n",
      "13599302\n",
      "0\n",
      "148555.1944023372\n"
     ]
    }
   ],
   "source": [
    "print(dfDisney['user_followers'].value_counts())\n",
    "print(dfDisney['user_followers'].max())\n",
    "print(dfDisney['user_followers'].min())\n",
    "print(dfDisney['user_followers'].std())"
   ]
  },
  {
   "cell_type": "markdown",
   "metadata": {},
   "source": [
    "## Number of Retweets using Regex to find the RT in the text of the twitter"
   ]
  },
  {
   "cell_type": "code",
   "execution_count": 24,
   "metadata": {},
   "outputs": [
    {
     "name": "stdout",
     "output_type": "stream",
     "text": [
      "2897\n"
     ]
    }
   ],
   "source": [
    "import re\n",
    "dfnumpy= dfDisney['text'].to_string()\n",
    "regex = r'[^R-R][T-T]+.{2,}'\n",
    "print(len(re.compile(regex).findall(dfnumpy)))"
   ]
  },
  {
   "cell_type": "markdown",
   "metadata": {},
   "source": [
    "## Polarity Scoring"
   ]
  },
  {
   "cell_type": "code",
   "execution_count": 25,
   "metadata": {},
   "outputs": [],
   "source": [
    "polarity_score = []\n",
    "subjectivity_score = []\n",
    "for text in dfDisney['text']:\n",
    "    blob = TextBlob(text)\n",
    "    polarity_score.append(blob.sentiment.polarity)\n",
    "    subjectivity_score.append(blob.sentiment.subjectivity)\n",
    "    \n",
    "dfDisney['PolarityScore'] = polarity_score\n",
    "dfDisney['SubjectivityScore'] = subjectivity_score"
   ]
  },
  {
   "cell_type": "code",
   "execution_count": 26,
   "metadata": {},
   "outputs": [
    {
     "data": {
      "text/html": [
       "<div>\n",
       "<style scoped>\n",
       "    .dataframe tbody tr th:only-of-type {\n",
       "        vertical-align: middle;\n",
       "    }\n",
       "\n",
       "    .dataframe tbody tr th {\n",
       "        vertical-align: top;\n",
       "    }\n",
       "\n",
       "    .dataframe thead th {\n",
       "        text-align: right;\n",
       "    }\n",
       "</style>\n",
       "<table border=\"1\" class=\"dataframe\">\n",
       "  <thead>\n",
       "    <tr style=\"text-align: right;\">\n",
       "      <th></th>\n",
       "      <th>id</th>\n",
       "      <th>user_followers</th>\n",
       "      <th>user_friend</th>\n",
       "      <th>user_listed</th>\n",
       "      <th>user_favs</th>\n",
       "      <th>user_statuses</th>\n",
       "      <th>PolarityScore</th>\n",
       "      <th>SubjectivityScore</th>\n",
       "    </tr>\n",
       "  </thead>\n",
       "  <tbody>\n",
       "    <tr>\n",
       "      <td>count</td>\n",
       "      <td>1.067600e+04</td>\n",
       "      <td>1.067600e+04</td>\n",
       "      <td>1.067600e+04</td>\n",
       "      <td>10676.000000</td>\n",
       "      <td>1.067600e+04</td>\n",
       "      <td>1.067600e+04</td>\n",
       "      <td>10676.000000</td>\n",
       "      <td>10676.000000</td>\n",
       "    </tr>\n",
       "    <tr>\n",
       "      <td>mean</td>\n",
       "      <td>1.195066e+18</td>\n",
       "      <td>5.762161e+03</td>\n",
       "      <td>1.462582e+03</td>\n",
       "      <td>67.093574</td>\n",
       "      <td>2.544380e+04</td>\n",
       "      <td>3.352922e+04</td>\n",
       "      <td>0.141142</td>\n",
       "      <td>0.433928</td>\n",
       "    </tr>\n",
       "    <tr>\n",
       "      <td>std</td>\n",
       "      <td>1.932425e+13</td>\n",
       "      <td>1.485552e+05</td>\n",
       "      <td>1.243934e+04</td>\n",
       "      <td>1041.957406</td>\n",
       "      <td>5.458394e+04</td>\n",
       "      <td>9.361138e+04</td>\n",
       "      <td>0.300415</td>\n",
       "      <td>0.372646</td>\n",
       "    </tr>\n",
       "    <tr>\n",
       "      <td>min</td>\n",
       "      <td>1.195031e+18</td>\n",
       "      <td>0.000000e+00</td>\n",
       "      <td>0.000000e+00</td>\n",
       "      <td>0.000000</td>\n",
       "      <td>0.000000e+00</td>\n",
       "      <td>1.000000e+00</td>\n",
       "      <td>-1.000000</td>\n",
       "      <td>0.000000</td>\n",
       "    </tr>\n",
       "    <tr>\n",
       "      <td>25%</td>\n",
       "      <td>1.195051e+18</td>\n",
       "      <td>9.300000e+01</td>\n",
       "      <td>1.697500e+02</td>\n",
       "      <td>0.000000</td>\n",
       "      <td>1.081000e+03</td>\n",
       "      <td>1.995250e+03</td>\n",
       "      <td>0.000000</td>\n",
       "      <td>0.000000</td>\n",
       "    </tr>\n",
       "    <tr>\n",
       "      <td>50%</td>\n",
       "      <td>1.195064e+18</td>\n",
       "      <td>3.400000e+02</td>\n",
       "      <td>4.360000e+02</td>\n",
       "      <td>3.000000</td>\n",
       "      <td>6.916500e+03</td>\n",
       "      <td>8.848000e+03</td>\n",
       "      <td>0.000000</td>\n",
       "      <td>0.400000</td>\n",
       "    </tr>\n",
       "    <tr>\n",
       "      <td>75%</td>\n",
       "      <td>1.195082e+18</td>\n",
       "      <td>1.053000e+03</td>\n",
       "      <td>1.097250e+03</td>\n",
       "      <td>18.000000</td>\n",
       "      <td>2.538700e+04</td>\n",
       "      <td>3.022200e+04</td>\n",
       "      <td>0.250000</td>\n",
       "      <td>0.750000</td>\n",
       "    </tr>\n",
       "    <tr>\n",
       "      <td>max</td>\n",
       "      <td>1.195112e+18</td>\n",
       "      <td>1.359930e+07</td>\n",
       "      <td>1.191593e+06</td>\n",
       "      <td>95443.000000</td>\n",
       "      <td>1.066902e+06</td>\n",
       "      <td>2.034666e+06</td>\n",
       "      <td>1.000000</td>\n",
       "      <td>1.000000</td>\n",
       "    </tr>\n",
       "  </tbody>\n",
       "</table>\n",
       "</div>"
      ],
      "text/plain": [
       "                 id  user_followers   user_friend   user_listed     user_favs  \\\n",
       "count  1.067600e+04    1.067600e+04  1.067600e+04  10676.000000  1.067600e+04   \n",
       "mean   1.195066e+18    5.762161e+03  1.462582e+03     67.093574  2.544380e+04   \n",
       "std    1.932425e+13    1.485552e+05  1.243934e+04   1041.957406  5.458394e+04   \n",
       "min    1.195031e+18    0.000000e+00  0.000000e+00      0.000000  0.000000e+00   \n",
       "25%    1.195051e+18    9.300000e+01  1.697500e+02      0.000000  1.081000e+03   \n",
       "50%    1.195064e+18    3.400000e+02  4.360000e+02      3.000000  6.916500e+03   \n",
       "75%    1.195082e+18    1.053000e+03  1.097250e+03     18.000000  2.538700e+04   \n",
       "max    1.195112e+18    1.359930e+07  1.191593e+06  95443.000000  1.066902e+06   \n",
       "\n",
       "       user_statuses  PolarityScore  SubjectivityScore  \n",
       "count   1.067600e+04   10676.000000       10676.000000  \n",
       "mean    3.352922e+04       0.141142           0.433928  \n",
       "std     9.361138e+04       0.300415           0.372646  \n",
       "min     1.000000e+00      -1.000000           0.000000  \n",
       "25%     1.995250e+03       0.000000           0.000000  \n",
       "50%     8.848000e+03       0.000000           0.400000  \n",
       "75%     3.022200e+04       0.250000           0.750000  \n",
       "max     2.034666e+06       1.000000           1.000000  "
      ]
     },
     "execution_count": 26,
     "metadata": {},
     "output_type": "execute_result"
    }
   ],
   "source": [
    "dfDisney.describe()"
   ]
  },
  {
   "cell_type": "markdown",
   "metadata": {},
   "source": [
    "## Personal Sentiment Analysis"
   ]
  },
  {
   "cell_type": "code",
   "execution_count": 27,
   "metadata": {},
   "outputs": [],
   "source": [
    "def create_column(data):\n",
    "    if data <= -0.5:\n",
    "        grouping = 'Strong-Negative'\n",
    "    elif data > -0.5 and data < 0.0:\n",
    "        grouping = 'Mild-Negative'  \n",
    "    elif data > 0.0 and data < 0.5:\n",
    "        grouping = 'Mild Positive'\n",
    "    elif data >=0.5:\n",
    "        grouping = 'Strong-Positive'\n",
    "    else:\n",
    "        grouping = 'Neutral'\n",
    "    return grouping\n",
    "\n",
    "df['sentimentLabel'] = df['PolarityScore'].apply(create_column)\n",
    "dfDisney['sentimentLabel'] = dfDisney['PolarityScore'].apply(create_column)"
   ]
  },
  {
   "cell_type": "code",
   "execution_count": 28,
   "metadata": {},
   "outputs": [
    {
     "data": {
      "text/plain": [
       "Text(0.5, 1.0, 'Gender by Company')"
      ]
     },
     "execution_count": 28,
     "metadata": {},
     "output_type": "execute_result"
    },
    {
     "data": {
      "image/png": "[encoded data removed]",
      "text/plain": [
       "<Figure size 432x288 with 1 Axes>"
      ]
     },
     "metadata": {
      "needs_background": "light"
     },
     "output_type": "display_data"
    }
   ],
   "source": [
    "concatenated = pd.concat([df.assign(dataset='company1'), dfDisney.assign(dataset='company2')])\n",
    "sns.countplot(x=\"GenderPrediction\", hue=\"dataset\", data=concatenated, palette=dict(company1 = \"#D65F5F\", company2 = '#0085ca'))\n",
    "plt.title(\"Gender by Company\")"
   ]
  },
  {
   "cell_type": "markdown",
   "metadata": {},
   "source": [
    "# Analysis of both companies"
   ]
  },
  {
   "cell_type": "markdown",
   "metadata": {},
   "source": [
    "## Sentiment by Gender for Netflix"
   ]
  },
  {
   "cell_type": "code",
   "execution_count": 29,
   "metadata": {},
   "outputs": [
    {
     "data": {
      "text/plain": [
       "Text(0.5, 1.0, 'Sentiment by Gender for Netflix')"
      ]
     },
     "execution_count": 29,
     "metadata": {},
     "output_type": "execute_result"
    },
    {
     "data": {
      "image/png": "[encoded data removed]",
      "text/plain": [
       "<Figure size 432x288 with 1 Axes>"
      ]
     },
     "metadata": {
      "needs_background": "light"
     },
     "output_type": "display_data"
    }
   ],
   "source": [
    "sns.countplot(x=\"GenderPrediction\", hue=\"sentimentLabel\", data=df)\n",
    "plt.title(\"Sentiment by Gender for Netflix\")"
   ]
  },
  {
   "cell_type": "markdown",
   "metadata": {},
   "source": [
    "## Gender Prediction for Disney"
   ]
  },
  {
   "cell_type": "code",
   "execution_count": 30,
   "metadata": {},
   "outputs": [
    {
     "data": {
      "text/plain": [
       "Text(0.5, 1.0, 'Sentiment by Gender for Disney')"
      ]
     },
     "execution_count": 30,
     "metadata": {},
     "output_type": "execute_result"
    },
    {
     "data": {
      "image/png": "[encoded data removed]",
      "text/plain": [
       "<Figure size 432x288 with 1 Axes>"
      ]
     },
     "metadata": {
      "needs_background": "light"
     },
     "output_type": "display_data"
    }
   ],
   "source": [
    "sns.countplot(x=\"GenderPrediction\", hue=\"sentimentLabel\", data=dfDisney)\n",
    "plt.title(\"Sentiment by Gender for Disney\")"
   ]
  },
  {
   "cell_type": "markdown",
   "metadata": {},
   "source": [
    "## Comparison of both companies Sentiments"
   ]
  },
  {
   "cell_type": "code",
   "execution_count": 31,
   "metadata": {
    "scrolled": true
   },
   "outputs": [
    {
     "data": {
      "text/plain": [
       "Text(0.5, 1.0, 'Sentiment by Company')"
      ]
     },
     "execution_count": 31,
     "metadata": {},
     "output_type": "execute_result"
    },
    {
     "data": {
      "image/png": "[encoded data removed]",
      "text/plain": [
       "<Figure size 432x288 with 1 Axes>"
      ]
     },
     "metadata": {
      "needs_background": "light"
     },
     "output_type": "display_data"
    }
   ],
   "source": [
    "sns.countplot(x=\"sentimentLabel\", hue=\"dataset\", data=concatenated, palette=dict(company1 = \"#D65F5F\", company2 = '#0085ca'))\n",
    "plt.title(\"Sentiment by Company\")"
   ]
  },
  {
   "cell_type": "markdown",
   "metadata": {},
   "source": [
    "## Sentiment of Follower Importance"
   ]
  },
  {
   "cell_type": "code",
   "execution_count": 32,
   "metadata": {},
   "outputs": [],
   "source": [
    "def create_columnNetflix(data):\n",
    "    if df['user_followers'] > 5000:\n",
    "        if data <= -0.5:\n",
    "            grouping = 'Strong-Negative'\n",
    "        elif data > -0.5 and data < 0.0:\n",
    "            grouping = 'Mild-Negative'  \n",
    "        elif data > 0.0 and data < 0.5:\n",
    "            grouping = 'Mild Positive'\n",
    "        elif data >=0.5:\n",
    "            grouping = 'Strong-Positive'\n",
    "        else:\n",
    "            grouping = 'Neutral'\n",
    "    return grouping\n",
    "\n",
    "df['importantsentiment'] = df['PolarityScore'].apply(create_column)"
   ]
  },
  {
   "cell_type": "code",
   "execution_count": 35,
   "metadata": {},
   "outputs": [
    {
     "data": {
      "text/plain": [
       "Text(0.5, 1.0, 'Sentiment Analysis for Netflix')"
      ]
     },
     "execution_count": 35,
     "metadata": {},
     "output_type": "execute_result"
    },
    {
     "data": {
      "image/png": "[encoded data removed]",
      "text/plain": [
       "<Figure size 432x288 with 1 Axes>"
      ]
     },
     "metadata": {
      "needs_background": "light"
     },
     "output_type": "display_data"
    }
   ],
   "source": [
    "sns.countplot(x=\"importantsentiment\", hue=\"importantsentiment\", data=df)\n",
    "plt.title(\"Sentiment Analysis for Netflix\")"
   ]
  },
  {
   "cell_type": "code",
   "execution_count": 36,
   "metadata": {},
   "outputs": [],
   "source": [
    "def create_columnDisney(data):\n",
    "    if dfDisney['user_followers'] > 5000:\n",
    "            if data <= -0.5:\n",
    "                grouping = 'Strong-Negative'\n",
    "            elif data > -0.5 and data < 0.0:\n",
    "                grouping = 'Mild-Negative'  \n",
    "            elif data > 0.0 and data < 0.5:\n",
    "                grouping = 'Mild Positive'\n",
    "            elif data >=0.5:\n",
    "                grouping = 'Strong-Positive'\n",
    "            else:\n",
    "                grouping = 'Neutral'\n",
    "    return grouping\n",
    "      \n",
    "dfDisney['importantsentiment'] = dfDisney['PolarityScore'].apply(create_column)"
   ]
  },
  {
   "cell_type": "code",
   "execution_count": 37,
   "metadata": {},
   "outputs": [
    {
     "data": {
      "text/plain": [
       "Text(0.5, 1.0, 'Sentiment Analysis for Disney')"
      ]
     },
     "execution_count": 37,
     "metadata": {},
     "output_type": "execute_result"
    },
    {
     "data": {
      "image/png": "[encoded data removed]",
      "text/plain": [
       "<Figure size 432x288 with 1 Axes>"
      ]
     },
     "metadata": {
      "needs_background": "light"
     },
     "output_type": "display_data"
    }
   ],
   "source": [
    "sns.countplot(x=\"importantsentiment\", hue=\"importantsentiment\", data=dfDisney)\n",
    "plt.title(\"Sentiment Analysis for Disney\")"
   ]
  },
  {
   "cell_type": "markdown",
   "metadata": {},
   "source": [
    "**Intro**\n",
    "- Prior to my analysis, I was unsure about the results I would find. The majority of data I knew I would be collecting I assumed with either be positive or negative. I believed initially that the majority of the tweets I pulled would be positive. The majority of the tweets i collected I expected would be individual tweets and not retweets."
   ]
  },
  {
   "cell_type": "markdown",
   "metadata": {},
   "source": [
    "**Conclusion**\n",
    "- In my sentiment analysis of Disney and Netflix, the overall tweets about Netflix are very broad and neutral. However, tweets surrounding Disney have a slighter greater emphasis on a Mild-Positive sentiment. In addition, I was shocked to see how many of my Netflix tweets were neutral. I suppose there is a reason for that if I had more time to delve deeper into the analysis.\n",
    "\n",
    "**Netflix**\n",
    "- Location of the Tweets were mostly from Houston, TX. The most popular hashtags were 'FunkoHollywood', 'StrangerThings', and 'FunkoPop' with a total of 771 times. Maximum number of followers: 6819272. Minimum Number of followers: 0. Standard Deviation of Followers: 59835.06901644388 The Total number of Retweets: 14,706\n",
    "\n",
    "**Disney**\n",
    "- Location of the Tweets were mostly from Los Angeles, CA. The most popular hashtag was 'disneyplus' with a total of 3,063 times. Maximum number of followers: 13599302. Minimum number of followers: 0. Standard Deviation of Followers: 148555.1944023372 The Total number of Retweets: 2,897"
   ]
  },
  {
   "cell_type": "code",
   "execution_count": null,
   "metadata": {},
   "outputs": [],
   "source": []
  }
 ],
 "metadata": {
  "kernelspec": {
   "display_name": "Python 3",
   "language": "python",
   "name": "python3"
  },
  "language_info": {
   "codemirror_mode": {
    "name": "ipython",
    "version": 3
   },
   "file_extension": ".py",
   "mimetype": "text/x-python",
   "name": "python",
   "nbconvert_exporter": "python",
   "pygments_lexer": "ipython3",
   "version": "3.6.5"
  },
  "toc": {
   "base_numbering": 1,
   "nav_menu": {},
   "number_sections": true,
   "sideBar": true,
   "skip_h1_title": false,
   "title_cell": "Table of Contents",
   "title_sidebar": "Contents",
   "toc_cell": false,
   "toc_position": {},
   "toc_section_display": true,
   "toc_window_display": true
  }
 },
 "nbformat": 4,
 "nbformat_minor": 2
}
