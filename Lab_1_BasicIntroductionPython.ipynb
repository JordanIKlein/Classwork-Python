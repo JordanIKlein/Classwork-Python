{
 "cells": [
  {
   "cell_type": "markdown",
   "metadata": {
    "colab_type": "text",
    "id": "EpVBFR1fgeWS"
   },
   "source": [
    "# Module_01_Lab01"
   ]
  },
  {
   "cell_type": "markdown",
   "metadata": {
    "colab_type": "text",
    "id": "I1tePCt5got_"
   },
   "source": [
    "By : **Jordan Klein**\n",
    "Email: jklein@bryant.edu\n",
    "Date: Sept 9, 2019"
   ]
  },
  {
   "cell_type": "markdown",
   "metadata": {
    "colab_type": "text",
    "id": "fxsMbRBjhRlz"
   },
   "source": [
    "Question 1: Write code to print out the text “Hello”."
   ]
  },
  {
   "cell_type": "code",
   "execution_count": 3,
   "metadata": {
    "colab": {
     "base_uri": "https://localhost:8080/",
     "height": 35
    },
    "colab_type": "code",
    "id": "PKWgRKt8hTV4",
    "outputId": "8ea536dc-3558-46a6-c22c-d8d8e7073d96"
   },
   "outputs": [
    {
     "name": "stdout",
     "output_type": "stream",
     "text": [
      "Hello\n"
     ]
    }
   ],
   "source": [
    "hello = \"Hello\"\n",
    "print (hello)"
   ]
  },
  {
   "cell_type": "markdown",
   "metadata": {
    "colab_type": "text",
    "id": "5ZYdhUUXha2_"
   },
   "source": [
    "Question 2: Variable based Hello!\n",
    "Store your first name in a variable and have your program print out “Hello Jack” – substitute your own name for Jack."
   ]
  },
  {
   "cell_type": "code",
   "execution_count": 4,
   "metadata": {
    "colab": {
     "base_uri": "https://localhost:8080/",
     "height": 35
    },
    "colab_type": "code",
    "id": "ycAbjdsohc0z",
    "outputId": "6b980b87-92a7-4a4e-9e20-db42e5cdf21c"
   },
   "outputs": [
    {
     "name": "stdout",
     "output_type": "stream",
     "text": [
      "Hello Jack\n"
     ]
    }
   ],
   "source": [
    "name = \"Jack\"\n",
    "print(hello + \" \" + name)"
   ]
  },
  {
   "cell_type": "markdown",
   "metadata": {
    "colab_type": "text",
    "id": "kMqC3VuHhqKe"
   },
   "source": [
    "Question 3: Store the day of the month (i.e. 7) in a variable"
   ]
  },
  {
   "cell_type": "code",
   "execution_count": 5,
   "metadata": {
    "colab": {},
    "colab_type": "code",
    "id": "z_o_8ITfhrPd"
   },
   "outputs": [],
   "source": [
    "today = 7"
   ]
  },
  {
   "cell_type": "markdown",
   "metadata": {
    "colab_type": "text",
    "id": "nGu0KfDBh7nK"
   },
   "source": [
    "Question 4: Store the month name in a variable (i.e. “September”)"
   ]
  },
  {
   "cell_type": "code",
   "execution_count": 6,
   "metadata": {
    "colab": {},
    "colab_type": "code",
    "id": "jSeLEpH2h8h2"
   },
   "outputs": [],
   "source": [
    "month = \"September\""
   ]
  },
  {
   "cell_type": "markdown",
   "metadata": {
    "colab_type": "text",
    "id": "JLL0RWy5h_2s"
   },
   "source": [
    "Question 5: Print out the line “Hello Jack. Today is September 7th” using your variables"
   ]
  },
  {
   "cell_type": "code",
   "execution_count": 7,
   "metadata": {
    "colab": {
     "base_uri": "https://localhost:8080/",
     "height": 35
    },
    "colab_type": "code",
    "id": "C19kshduiAx-",
    "outputId": "7f7b5356-57a8-4c27-81d0-357d88fc28e1"
   },
   "outputs": [
    {
     "name": "stdout",
     "output_type": "stream",
     "text": [
      "Hello Jack. Today is September 7th\n"
     ]
    }
   ],
   "source": [
    "print(hello + \" \" + name + \".\" + \" Today is \" + month + \" \" + str(today) + \"th\" )"
   ]
  },
  {
   "cell_type": "markdown",
   "metadata": {
    "colab_type": "text",
    "id": "FaBSTyBOpdKr"
   },
   "source": [
    "Question 6: Use a math function to determine what day of the month tomorrow is (i.e. Today + 1)."
   ]
  },
  {
   "cell_type": "code",
   "execution_count": 8,
   "metadata": {
    "colab": {
     "base_uri": "https://localhost:8080/",
     "height": 35
    },
    "colab_type": "code",
    "id": "pPeIdx2riqPa",
    "outputId": "653a4a42-0b98-49b8-81d0-39b31cb2e6c7"
   },
   "outputs": [
    {
     "name": "stdout",
     "output_type": "stream",
     "text": [
      "8\n"
     ]
    }
   ],
   "source": [
    "tomorrow = today + 1 \n",
    "print (str(tomorrow))"
   ]
  },
  {
   "cell_type": "markdown",
   "metadata": {
    "colab_type": "text",
    "id": "K0klaaz4qDNG"
   },
   "source": [
    "Question 7: Use a single print command to print out (embed the newline code into your print statement)"
   ]
  },
  {
   "cell_type": "code",
   "execution_count": 12,
   "metadata": {
    "colab": {
     "base_uri": "https://localhost:8080/",
     "height": 52
    },
    "colab_type": "code",
    "id": "fAoBVshOqFAa",
    "outputId": "6fffd9e2-d00d-4714-d8a3-884f4782b1b2"
   },
   "outputs": [
    {
     "name": "stdout",
     "output_type": "stream",
     "text": [
      "Hello Jack. Today is September 7th \n",
      "Tomorrow will be September 8th\n"
     ]
    }
   ],
   "source": [
    "print(hello + \" \" + name + \".\" + \" Today is \" + month + \" \" + str(today) + f\"th \\nTomorrow will be \" + month + \" \" + str(tomorrow) + \"th\")"
   ]
  },
  {
   "cell_type": "markdown",
   "metadata": {
    "colab_type": "text",
    "id": "zPaFXYR6pZCB"
   },
   "source": [
    "Question 8 and 9: Change the first name to be “beetlejuice” (all lower case) and make sure the beetlejuice has a capital B using the method title()"
   ]
  },
  {
   "cell_type": "code",
   "execution_count": 14,
   "metadata": {
    "colab": {
     "base_uri": "https://localhost:8080/",
     "height": 52
    },
    "colab_type": "code",
    "id": "tEzUxwnTpbXn",
    "outputId": "334bc4e8-5d9e-4f94-ab0d-3e500797d307"
   },
   "outputs": [
    {
     "name": "stdout",
     "output_type": "stream",
     "text": [
      "Hello Beetlejuice. Today is September 7th\n",
      "Tomorrow will be September 8th\n"
     ]
    }
   ],
   "source": [
    "name = \"bEetLejUice\"\n",
    "print(hello + \" \" + name.title() + \".\" + \" Today is \" + month + \" \" + str(today) + \"th\" )\n",
    "print(\"Tomorrow will be \" + month + \" \" + str(tomorrow) + \"th\")"
   ]
  },
  {
   "cell_type": "markdown",
   "metadata": {
    "colab_type": "text",
    "id": "LPeU078OuZrt"
   },
   "source": [
    "Question 10: Using a single print statement, print “Beetlejuice” three times."
   ]
  },
  {
   "cell_type": "code",
   "execution_count": 16,
   "metadata": {
    "colab": {
     "base_uri": "https://localhost:8080/",
     "height": 35
    },
    "colab_type": "code",
    "id": "mBvC-wS_uaiv",
    "outputId": "059b76d6-0a88-46da-80e8-1b1194a24c1e"
   },
   "outputs": [
    {
     "data": {
      "text/plain": [
       "['Beetlejuice', 'Beetlejuice', 'Beetlejuice']"
      ]
     },
     "execution_count": 16,
     "metadata": {},
     "output_type": "execute_result"
    }
   ],
   "source": [
    "name = \"Beetlejuice\"\n",
    "name_list = [name for i in range(3)]\n",
    "name_list"
   ]
  },
  {
   "cell_type": "markdown",
   "metadata": {
    "colab_type": "text",
    "id": "yyHDVPBBvaus"
   },
   "source": [
    "Question 11 Now just print the first 4 characters of the name three times (i.e. “Beet Beet Beet”)"
   ]
  },
  {
   "cell_type": "code",
   "execution_count": 18,
   "metadata": {
    "colab": {
     "base_uri": "https://localhost:8080/",
     "height": 35
    },
    "colab_type": "code",
    "id": "IOkzu_PDu3y7",
    "outputId": "e44ad43c-b5e9-4f8f-8b3e-3280673ffc93"
   },
   "outputs": [
    {
     "data": {
      "text/plain": [
       "['Beet', 'Beet', 'Beet']"
      ]
     },
     "execution_count": 18,
     "metadata": {},
     "output_type": "execute_result"
    }
   ],
   "source": [
    "name_list2 =[name[:4].capitalize() for i in range(3)]\n",
    "name_list2"
   ]
  },
  {
   "cell_type": "markdown",
   "metadata": {
    "colab_type": "text",
    "id": "cHL7T54lvjoF"
   },
   "source": [
    "Question 12: Data Types!"
   ]
  },
  {
   "cell_type": "markdown",
   "metadata": {
    "colab_type": "text",
    "id": "3WPRrVgwvlST"
   },
   "source": [
    "Data types:\n",
    "-Integers\n",
    "-Floating-Point Numbers\n",
    "- Complex Numbers\n",
    "- Strings\n",
    "- Boolean\n"
   ]
  }
 ],
 "metadata": {
  "colab": {
   "collapsed_sections": [],
   "name": "Module_01_Lab01.ipynb",
   "provenance": [],
   "version": "0.3.2"
  },
  "kernelspec": {
   "display_name": "Python 3",
   "language": "python",
   "name": "python3"
  },
  "language_info": {
   "codemirror_mode": {
    "name": "ipython",
    "version": 3
   },
   "file_extension": ".py",
   "mimetype": "text/x-python",
   "name": "python",
   "nbconvert_exporter": "python",
   "pygments_lexer": "ipython3",
   "version": "3.7.4"
  },
  "toc": {
   "base_numbering": 1,
   "nav_menu": {},
   "number_sections": true,
   "sideBar": true,
   "skip_h1_title": false,
   "title_cell": "Table of Contents",
   "title_sidebar": "Contents",
   "toc_cell": false,
   "toc_position": {},
   "toc_section_display": true,
   "toc_window_display": false
  }
 },
 "nbformat": 4,
 "nbformat_minor": 1
}
