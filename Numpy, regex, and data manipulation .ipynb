{
 "cells": [
  {
   "cell_type": "markdown",
   "metadata": {},
   "source": [
    "# Python Exam #2"
   ]
  },
  {
   "cell_type": "markdown",
   "metadata": {},
   "source": [
    "## List of Study Topics:\n",
    "2. Numpy\n",
    "    1. Reshaping arrays\n",
    "    2. numbers, integers, just must be the same data type\n",
    "    3. x + y, x*y, x/y --> element wise operation\n",
    "    4. Vectorized operation x.dot(y), shapes need to conform\n",
    "    5. ((x-mean(x))/(std(x)))\n",
    "3. Pandas\n",
    "    1. Dataframes\n",
    "    2. Series\n",
    "    3. More flexible, can have heterogeneous frames\n",
    "    4. df merge, square bracket --> concatenating dataframes together. dfl.c_ [...]\n",
    "4. Data cleaning, preperaion, and loading\n",
    "5. Regular Expressions - using re to match items in a string and find patterns\n"
   ]
  },
  {
   "cell_type": "markdown",
   "metadata": {},
   "source": [
    "# Numpy Basics:Arrays and Vectorized Computation"
   ]
  },
  {
   "cell_type": "code",
   "execution_count": 1,
   "metadata": {
    "scrolled": true
   },
   "outputs": [
    {
     "name": "stdout",
     "output_type": "stream",
     "text": [
      "CPU times: user 10 ms, sys: 20 ms, total: 30 ms\n",
      "Wall time: 29.2 ms\n",
      "CPU times: user 830 ms, sys: 150 ms, total: 980 ms\n",
      "Wall time: 972 ms\n"
     ]
    }
   ],
   "source": [
    "#Example of how using Arrays in python can speed up the process significantly\n",
    "import numpy as np\n",
    "my_arr = np.arange(1000000)\n",
    "my_list = list(range(1000000))\n",
    "%time for _ in range(10): my_arr2 = my_arr * 2\n",
    "%time for _ in range(10): mylist2 = [ x * 2 for x in my_list]\n",
    "#10 to 100 times faster using arrays than lists"
   ]
  },
  {
   "cell_type": "code",
   "execution_count": 2,
   "metadata": {},
   "outputs": [
    {
     "data": {
      "text/plain": [
       "array([[ 0.01663107,  0.73195245,  0.05026174],\n",
       "       [ 1.17052227, -0.66364167, -0.72515261]])"
      ]
     },
     "execution_count": 2,
     "metadata": {},
     "output_type": "execute_result"
    }
   ],
   "source": [
    "# Generate random data\n",
    "data = np.random.randn(2,3)\n",
    "data\n",
    "#All of the elements must be the same type!"
   ]
  },
  {
   "cell_type": "code",
   "execution_count": 3,
   "metadata": {},
   "outputs": [
    {
     "name": "stdout",
     "output_type": "stream",
     "text": [
      " Data type:float64. Dimensions of Array:(2, 3)\n"
     ]
    }
   ],
   "source": [
    "print(f\" Data type:{data.dtype}. Dimensions of Array:{data.shape}\")"
   ]
  },
  {
   "cell_type": "code",
   "execution_count": 4,
   "metadata": {},
   "outputs": [
    {
     "name": "stdout",
     "output_type": "stream",
     "text": [
      " One dimensional Array: [ 6  5 23  7  3  8  2  8  3].\n",
      " Two dimensional Array: [[1 2 3 4]\n",
      " [5 6 7 8]]\n",
      "Number of dimensions in arr2= 2\n"
     ]
    }
   ],
   "source": [
    "#Converting a list to an array\n",
    "data1 = [6,5,23,7,3,8,2,8,3]\n",
    "arr1 = np.array(data1)\n",
    "data2 = [[1,2,3,4],[5,6,7,8]] #Note that both must be the same size or else it will not accurately predict the correct dimensions\n",
    "arr2 = np.array(data2)\n",
    "print(f\" One dimensional Array: {arr1}.\\n Two dimensional Array: {arr2}\")\n",
    "#Inspecting the number of dimensions\n",
    "print(f\"Number of dimensions in arr2= {arr2.ndim}\")"
   ]
  },
  {
   "cell_type": "code",
   "execution_count": 5,
   "metadata": {},
   "outputs": [
    {
     "name": "stdout",
     "output_type": "stream",
     "text": [
      "[0. 0. 0. 0. 0. 0. 0. 0. 0. 0.]\n"
     ]
    }
   ],
   "source": [
    "#Creating array's using zeros and arrays\n",
    "zeros = np.zeros(10)\n",
    "zerosShape = np.zeros((3,6))\n",
    "emptyboi = np.zeros((2,3,2)) #also could be .empty\n",
    "print(zeros)"
   ]
  },
  {
   "cell_type": "markdown",
   "metadata": {},
   "source": [
    "##### Examples of lists"
   ]
  },
  {
   "cell_type": "code",
   "execution_count": 6,
   "metadata": {},
   "outputs": [
    {
     "name": "stdout",
     "output_type": "stream",
     "text": [
      "How to access the last element in the list. b[4]: 21 or b[-1]: 21\n"
     ]
    }
   ],
   "source": [
    "a = [0, 1, 1, 2, 3, 5, 8, 13]\n",
    "b = [5., \"girl\", 2+0j, \"horse\", 21]\n",
    "#Lists only have one data type!!\n",
    "#b has 5 elements\n",
    "print(f'How to access the last element in the list. b[4]: {b[4]} or b[-1]: {b[-1]}')"
   ]
  },
  {
   "cell_type": "markdown",
   "metadata": {},
   "source": [
    "###### Editing individual elements in a list string or int"
   ]
  },
  {
   "cell_type": "code",
   "execution_count": 7,
   "metadata": {},
   "outputs": [
    {
     "name": "stdout",
     "output_type": "stream",
     "text": [
      "[0, 1, 1, 10, 3, 5, 8, 13] ['boy', 'girl', 'man', 'woman is god.']\n"
     ]
    }
   ],
   "source": [
    "a = [0, 1, 1, 2, 3, 5, 8, 13]\n",
    "a[3] = 10\n",
    "b = [\"boy\",\"girl\", \"man\", \"woman\"]\n",
    "b[3] = b[3] + \" is god.\"\n",
    "print(a,b)"
   ]
  },
  {
   "cell_type": "markdown",
   "metadata": {},
   "source": [
    "###### Slicing Lists"
   ]
  },
  {
   "cell_type": "code",
   "execution_count": 8,
   "metadata": {
    "scrolled": true
   },
   "outputs": [
    {
     "name": "stdout",
     "output_type": "stream",
     "text": [
      "a[1:4]: [1, 1, 10]\n",
      "b[3:5]: ['boy', 'girl']\n"
     ]
    }
   ],
   "source": [
    "print(f'a[1:4]: {a[1:4]}')\n",
    "print(f'b[3:5]: {b[0:2]}')"
   ]
  },
  {
   "cell_type": "markdown",
   "metadata": {},
   "source": [
    "###### Tuples: lists that are immutable"
   ]
  },
  {
   "cell_type": "code",
   "execution_count": 9,
   "metadata": {},
   "outputs": [
    {
     "data": {
      "text/plain": [
       "(1, 2, 3, 4, 5, 6)"
      ]
     },
     "execution_count": 9,
     "metadata": {},
     "output_type": "execute_result"
    }
   ],
   "source": [
    "#Example of tuple\n",
    "c=(1,2,3,4,5,6)\n",
    "c"
   ]
  },
  {
   "cell_type": "markdown",
   "metadata": {},
   "source": [
    "###### Multi-Dimensional List"
   ]
  },
  {
   "cell_type": "code",
   "execution_count": 10,
   "metadata": {},
   "outputs": [
    {
     "data": {
      "text/plain": [
       "[[1, 2], [3, 4], [5, 6]]"
      ]
     },
     "execution_count": 10,
     "metadata": {},
     "output_type": "execute_result"
    }
   ],
   "source": [
    "a=[[1,2],[3,4],[5,6]] # three element list, lists can not be reshapes!!!\n",
    "a"
   ]
  },
  {
   "cell_type": "markdown",
   "metadata": {},
   "source": [
    "###### Creating an Array 5 different ways"
   ]
  },
  {
   "cell_type": "code",
   "execution_count": 13,
   "metadata": {},
   "outputs": [
    {
     "name": "stdout",
     "output_type": "stream",
     "text": [
      "[ 78.          82.66666667  87.33333333  92.          96.66666667\n",
      " 101.33333333 106.         110.66666667 115.33333333 120.        ]\n",
      "990.0\n"
     ]
    }
   ],
   "source": [
    "import numpy as np\n",
    "a = np.arange(25,35,1)\n",
    "b = np.linspace(1,6,10)\n",
    "#print(sum(b))\n",
    "#print(sum(a))\n",
    "#print(35+295) #question 4\n",
    "print((a*3)+(b*3))# Question 5\n",
    "cubed_sum = sum(((a*3)+(b*3)))\n",
    "print(cubed_sum)"
   ]
  },
  {
   "cell_type": "code",
   "execution_count": 14,
   "metadata": {},
   "outputs": [
    {
     "name": "stdout",
     "output_type": "stream",
     "text": [
      "[1 2 3 4 5 6 7 0]\n"
     ]
    }
   ],
   "source": [
    "#converting a list to an array\n",
    "import numpy as np\n",
    "a = [1,2,3,4,5,6,7,0]\n",
    "b = np.array(a)\n",
    "print(b)"
   ]
  },
  {
   "cell_type": "code",
   "execution_count": 15,
   "metadata": {},
   "outputs": [
    {
     "data": {
      "text/plain": [
       "array([ 1.,  2.,  3.,  4.,  5.,  6.,  7.,  8.,  9., 10., 11., 12., 13.,\n",
       "       14., 15., 16., 17., 18., 19., 20.])"
      ]
     },
     "execution_count": 15,
     "metadata": {},
     "output_type": "execute_result"
    }
   ],
   "source": [
    "#np.linspace: array of N evenly spaced points (start,stop,N)\n",
    "np.linspace(0, 10, 5)\n",
    "np.linspace(1,20,20)"
   ]
  },
  {
   "cell_type": "code",
   "execution_count": 16,
   "metadata": {},
   "outputs": [
    {
     "data": {
      "text/plain": [
       "array([0, 1, 2, 3, 4, 5, 6, 7, 8, 9])"
      ]
     },
     "execution_count": 16,
     "metadata": {},
     "output_type": "execute_result"
    }
   ],
   "source": [
    "#np.arange: NumPy arange function (start,stop,step)\n",
    "np.arange(0,10,1)"
   ]
  },
  {
   "cell_type": "code",
   "execution_count": 17,
   "metadata": {},
   "outputs": [
    {
     "data": {
      "text/plain": [
       "array([0., 0., 0.])"
      ]
     },
     "execution_count": 17,
     "metadata": {},
     "output_type": "execute_result"
    }
   ],
   "source": [
    "#np.zeros and ones\n",
    "np.zeros(3)"
   ]
  },
  {
   "cell_type": "code",
   "execution_count": 23,
   "metadata": {},
   "outputs": [
    {
     "data": {
      "text/plain": [
       "array([['Jordan', 'Jordan', 'Jordan'],\n",
       "       ['Jordan', 'Jordan', 'Jordan']], dtype='<U6')"
      ]
     },
     "execution_count": 23,
     "metadata": {},
     "output_type": "execute_result"
    }
   ],
   "source": [
    "#np.full\n",
    "np.full((2,3),\"Jordan\")"
   ]
  },
  {
   "cell_type": "markdown",
   "metadata": {},
   "source": [
    "##### Mathematical Operations with Arrays"
   ]
  },
  {
   "cell_type": "code",
   "execution_count": 24,
   "metadata": {},
   "outputs": [
    {
     "data": {
      "text/plain": [
       "array([-6.,  0.,  6., 12., 18., 24., 30.])"
      ]
     },
     "execution_count": 24,
     "metadata": {},
     "output_type": "execute_result"
    }
   ],
   "source": [
    "a = np.linspace(-1., 5, 7) # start -1, stop 5, N = 7\n",
    "a*6"
   ]
  },
  {
   "cell_type": "markdown",
   "metadata": {},
   "source": [
    "###### Multi-dimensional Arrays and Matrices"
   ]
  },
  {
   "cell_type": "code",
   "execution_count": 25,
   "metadata": {},
   "outputs": [
    {
     "name": "stdout",
     "output_type": "stream",
     "text": [
      "[[1. 1. 1. 1.]\n",
      " [1. 1. 1. 1.]\n",
      " [1. 1. 1. 1.]] [[1. 4. 5.]\n",
      " [9. 7. 4.]]\n"
     ]
    }
   ],
   "source": [
    "b = np.array([[1., 4, 5], [9, 7, 4]])\n",
    "a = np.ones((3,4), dtype= float)\n",
    "print(a,b)"
   ]
  },
  {
   "cell_type": "markdown",
   "metadata": {},
   "source": [
    "###### Reshaping Arrays"
   ]
  },
  {
   "cell_type": "code",
   "execution_count": 26,
   "metadata": {},
   "outputs": [
    {
     "name": "stdout",
     "output_type": "stream",
     "text": [
      "c.reshape((2,3)):\n",
      " [[0 1]\n",
      " [2 3]\n",
      " [4 5]]\n",
      "np.reshape(c, (2,3)):\n",
      " [[0 1 2 3 4 5]]\n"
     ]
    }
   ],
   "source": [
    "c = np.arange(6)\n",
    "c.reshape((2,3))\n",
    "\n",
    "print(f\"c.reshape((2,3)):\\n {c.reshape((3,2))}\")\n",
    "print(f\"np.reshape(c, (2,3)):\\n {np.reshape(c, (1,6))}\")"
   ]
  },
  {
   "cell_type": "markdown",
   "metadata": {},
   "source": [
    "##### Indexing Multidimensional Arrays"
   ]
  },
  {
   "cell_type": "code",
   "execution_count": 27,
   "metadata": {},
   "outputs": [
    {
     "name": "stdout",
     "output_type": "stream",
     "text": [
      "c[0][2]: 5.0\n",
      "b[0, 2]: 5.0\n"
     ]
    }
   ],
   "source": [
    "b = np.array([[1., 4, 5], [9, 7, 4]])\n",
    "print(f\"c[0][2]: {b[0][2]}\") #Lists can only take this\n",
    "print(f\"b[0, 2]: {b[0, 2]}\") #arrays take both of these but lists cannot"
   ]
  },
  {
   "cell_type": "markdown",
   "metadata": {},
   "source": [
    "###### Matrix operations: elementwise vectorized"
   ]
  },
  {
   "cell_type": "code",
   "execution_count": 28,
   "metadata": {},
   "outputs": [
    {
     "name": "stdout",
     "output_type": "stream",
     "text": [
      "b/2.:\n",
      " [[0.5 2.  2.5]\n",
      " [4.5 3.5 2. ]]\n",
      "b+b :\n",
      " [[ 2.  8. 10.]\n",
      " [18. 14.  8.]]\n",
      "np.exp(b+b) :\n",
      " [[7.38905610e+00 2.98095799e+03 2.20264658e+04]\n",
      " [6.56599691e+07 1.20260428e+06 2.98095799e+03]]\n"
     ]
    }
   ],
   "source": [
    "b = np.array([[1., 4, 5], [9, 7, 4]])\n",
    "print(f\"b/2.:\\n {b/2}\")\n",
    "print(f\"b+b :\\n {b+b}\")\n",
    "print(f\"np.exp(b+b) :\\n {np.exp(b+b)}\")"
   ]
  },
  {
   "cell_type": "markdown",
   "metadata": {},
   "source": [
    "###### Matrix Operations"
   ]
  },
  {
   "cell_type": "code",
   "execution_count": 34,
   "metadata": {},
   "outputs": [
    {
     "name": "stdout",
     "output_type": "stream",
     "text": [
      "[ 2.          3.11111111  4.22222222  5.33333333  6.44444444  7.55555556\n",
      "  8.66666667  9.77777778 10.88888889 12.        ]\n",
      "b:\n",
      "[1.         1.55555556 2.11111111 2.66666667 3.22222222 3.77777778\n",
      " 4.33333333 4.88888889 5.44444444 6.        ]\n",
      "b.T:\n",
      "[1.         1.55555556 2.11111111 2.66666667 3.22222222 3.77777778\n",
      " 4.33333333 4.88888889 5.44444444 6.        ]\n",
      "b.dot(b.T):\n",
      "147.962962962963\n"
     ]
    }
   ],
   "source": [
    "print(b.dot(2)) # multiplication of array\n",
    "print(f\"b:\\n{b}\")\n",
    "print(f\"b.T:\\n{b.T}\")\n",
    "print(f\"b.dot(b.T):\\n{b.dot(b.T)}\")"
   ]
  },
  {
   "cell_type": "markdown",
   "metadata": {},
   "source": [
    "###### Reshape:"
   ]
  },
  {
   "cell_type": "code",
   "execution_count": 37,
   "metadata": {
    "scrolled": true
   },
   "outputs": [
    {
     "data": {
      "text/plain": [
       "array([[1.        ],\n",
       "       [1.55555556],\n",
       "       [2.11111111],\n",
       "       [2.66666667],\n",
       "       [3.22222222],\n",
       "       [3.77777778],\n",
       "       [4.33333333],\n",
       "       [4.88888889],\n",
       "       [5.44444444],\n",
       "       [6.        ]])"
      ]
     },
     "execution_count": 37,
     "metadata": {},
     "output_type": "execute_result"
    }
   ],
   "source": [
    "b.reshape(10,1)"
   ]
  },
  {
   "cell_type": "markdown",
   "metadata": {},
   "source": [
    "###### Adding column or row to array"
   ]
  },
  {
   "cell_type": "code",
   "execution_count": 39,
   "metadata": {
    "scrolled": false
   },
   "outputs": [
    {
     "name": "stdout",
     "output_type": "stream",
     "text": [
      "X.shape: \n",
      "(5, 2)\n",
      "X: \n",
      "[[0 1]\n",
      " [2 3]\n",
      " [4 5]\n",
      " [6 7]\n",
      " [8 9]]\n",
      "new_col: \n",
      "[[555]\n",
      " [556]\n",
      " [557]\n",
      " [558]\n",
      " [559]]\n",
      "X.shape: \n",
      "(5, 3)\n",
      "New Column: \n",
      "[[  0   1 555]\n",
      " [  2   3 556]\n",
      " [  4   5 557]\n",
      " [  6   7 558]\n",
      " [  8   9 559]]\n",
      "New Row:\n",
      "[[  0   1 555]\n",
      " [  2   3 556]\n",
      " [  4   5 557]\n",
      " [  6   7 558]\n",
      " [  8   9 559]\n",
      " [990 991 992]]\n"
     ]
    }
   ],
   "source": [
    "import numpy as np\n",
    "X = np.reshape(np.arange(10,),(-1,2))\n",
    "print(f\"X.shape: \\n{X.shape}\")\n",
    "print(f\"X: \\n{X}\")\n",
    "new_col = np.reshape(np.arange(555, 560), (-1, 1))\n",
    "X=np.append(X, new_col, 1)\n",
    "print(f\"new_col: \\n{new_col}\")\n",
    "print(f\"X.shape: \\n{X.shape}\")\n",
    "print(f\"New Column: \\n{X}\")\n",
    "w=1,1\n",
    "\n",
    "new_col = np.reshape(np.arange(990, 993), (1, -1)) # array( [[ 0, 1, 2 ]] )\n",
    "X=np.append(X, new_col, 0)\n",
    "print(f\"New Row:\\n{X}\")"
   ]
  },
  {
   "cell_type": "markdown",
   "metadata": {},
   "source": [
    "###### Concatenating Arrays"
   ]
  },
  {
   "cell_type": "code",
   "execution_count": 40,
   "metadata": {},
   "outputs": [
    {
     "name": "stdout",
     "output_type": "stream",
     "text": [
      "a: [1 2 3]\n",
      "b: [5 6]\n",
      "np.concatenate((a,b)): [1 2 3 5 6]\n",
      "np.concatenate((a,a)): [1 2 3 1 2 3]\n"
     ]
    },
    {
     "data": {
      "text/plain": [
       "array([1, 2, 3, 5, 6])"
      ]
     },
     "execution_count": 40,
     "metadata": {},
     "output_type": "execute_result"
    }
   ],
   "source": [
    "import numpy as np\n",
    "a = np.array([1, 2, 3])\n",
    "b = np.array([5, 6])\n",
    "c = np.concatenate((a, b), axis=0)  #buggy code...why?\n",
    "print(f\"a: {a}\")\n",
    "print(f\"b: {b}\")\n",
    "print(f\"np.concatenate((a,b)): {np.concatenate((a,b))}\")\n",
    "print(f\"np.concatenate((a,a)): {np.concatenate((a,a))}\")\n",
    "c"
   ]
  },
  {
   "cell_type": "code",
   "execution_count": 43,
   "metadata": {},
   "outputs": [
    {
     "data": {
      "text/plain": [
       "array([[ 0,  1,  2],\n",
       "       [ 3,  4,  5],\n",
       "       [ 6,  7,  8],\n",
       "       [10, 11, 12],\n",
       "       [13, 14, 15],\n",
       "       [16, 17, 18]])"
      ]
     },
     "execution_count": 43,
     "metadata": {},
     "output_type": "execute_result"
    }
   ],
   "source": [
    "# concatenate 2 numpy arrays: row-wise\n",
    "array2D_1 = np.arange(9).reshape((3,3))\n",
    "array2D_2 = np.arange(10,19).reshape(3,3)\n",
    "\n",
    "np.concatenate((array2D_1, array2D_2))"
   ]
  },
  {
   "cell_type": "code",
   "execution_count": 45,
   "metadata": {
    "code_folding": []
   },
   "outputs": [
    {
     "data": {
      "text/plain": [
       "array([[ 0,  1,  2, 10, 11, 12],\n",
       "       [ 3,  4,  5, 13, 14, 15],\n",
       "       [ 6,  7,  8, 16, 17, 18]])"
      ]
     },
     "execution_count": 45,
     "metadata": {},
     "output_type": "execute_result"
    }
   ],
   "source": [
    "# concatenate 2 numpy arrays: column-wise\n",
    "np.concatenate((array2D_1,array2D_2),axis=1)"
   ]
  },
  {
   "cell_type": "code",
   "execution_count": 46,
   "metadata": {},
   "outputs": [
    {
     "data": {
      "text/plain": [
       "array([[2, 4],\n",
       "       [1, 3],\n",
       "       [2, 4],\n",
       "       [1, 3],\n",
       "       [1, 2],\n",
       "       [2, 4],\n",
       "       [1, 3],\n",
       "       [1, 2],\n",
       "       [4, 5]])"
      ]
     },
     "execution_count": 46,
     "metadata": {},
     "output_type": "execute_result"
    }
   ],
   "source": [
    "# concatenating 3 different arrays that are different dimensions, they will go to lowest dimension\n",
    "array2D = [[2,4],[1,3]]\n",
    "array3D = [[2,4],[1,3],[1,2]]\n",
    "array4D = [[2,4],[1,3],[1,2], [4,5]]\n",
    "np.concatenate((array2D, array3D, array4D))"
   ]
  },
  {
   "cell_type": "markdown",
   "metadata": {},
   "source": [
    "###### pros of each Arrays and List:\n",
    "list:\n",
    "1. flexible\n",
    "2. can be heterogeneous\n",
    "\n",
    "array (ex: numpy array):\n",
    "1. array of uniform values\n",
    "2. homogeneous\n",
    "3. compact (in size) ; sizeof(element)×(number of elements) bytes plus some small header overhead\n",
    "4. efficient (functionality and speed)\n",
    "5. convenient"
   ]
  },
  {
   "cell_type": "code",
   "execution_count": 48,
   "metadata": {},
   "outputs": [
    {
     "name": "stdout",
     "output_type": "stream",
     "text": [
      "[1, 2, 3, 4, 'data']\n"
     ]
    }
   ],
   "source": [
    "list = [1,2,3,4,\"data\"]\n",
    "print(list)"
   ]
  },
  {
   "cell_type": "markdown",
   "metadata": {},
   "source": [
    "###### Repeat function"
   ]
  },
  {
   "cell_type": "markdown",
   "metadata": {},
   "source": [
    "np.repeat(a= , repeats= , axis =)\n",
    "1. np.repeat --> the function name\n",
    "2. a= --> the input array you want to operate on\n",
    "3. repeats = --> the number of times to repeat each element\n",
    "4. axis = --> the axis which to repeat the values"
   ]
  },
  {
   "cell_type": "code",
   "execution_count": 49,
   "metadata": {},
   "outputs": [
    {
     "name": "stdout",
     "output_type": "stream",
     "text": [
      "[1 2 3]\n",
      "2\n",
      "[3 4 5]\n"
     ]
    }
   ],
   "source": [
    "# scalar and one-dimensional matrix addition\n",
    "from numpy import array\n",
    "a = array([1, 2, 3])\n",
    "print(a)\n",
    "b = 2\n",
    "print(b)\n",
    "c = a + b\n",
    "print(c)"
   ]
  },
  {
   "cell_type": "markdown",
   "metadata": {},
   "source": [
    "##### Broadcasting Rule"
   ]
  },
  {
   "cell_type": "markdown",
   "metadata": {},
   "source": [
    "Two arrays are compatible for broadcasting if for each trailing dimension (i.e., starting from the end) the axis lengths match or if either of the lengths is 1. Broadcasting is then performed over the missing or length 1 dimensions."
   ]
  },
  {
   "cell_type": "markdown",
   "metadata": {},
   "source": [
    "###### New Axis a.k.a. changing dimensions\n",
    "1. 1D arrays will become 2D arrays\n",
    "2. 2D arrays will become 3D arrays and so on\n",
    "3. np.newaxis()\n",
    "\n",
    "1D Array creation:\n",
    "\n",
    "In [7]: arr = np.arange(4)\n",
    "In [8]: arr.shape\n",
    "Out[8]: (4,)\n",
    "\n",
    "Row axis addition:\n",
    "\n",
    "In [9]: row_vec = arr[np.newaxis, :]\n",
    "In [10]: row_vec.shape\n",
    "Out[10]: (1, 4)\n",
    "\n",
    "Column axis addition:\n",
    "\n",
    "In [11]: col_vec = arr[:, np.newaxis]\n",
    "In [12]: col_vec.shape\n",
    "Out[12]: (4, 1)"
   ]
  },
  {
   "cell_type": "markdown",
   "metadata": {},
   "source": [
    "###### Simple Mathematical formulas\n",
    "1. np.log --> logarithm of each element\n",
    "2. np.exp --> exponentiate each element\n",
    "3. np.sqrt --> square root of each element"
   ]
  },
  {
   "cell_type": "code",
   "execution_count": 50,
   "metadata": {},
   "outputs": [
    {
     "data": {
      "text/plain": [
       "array([[1., 0., 0., 0.],\n",
       "       [0., 1., 0., 0.],\n",
       "       [0., 0., 1., 0.],\n",
       "       [0., 0., 0., 1.]])"
      ]
     },
     "execution_count": 50,
     "metadata": {},
     "output_type": "execute_result"
    }
   ],
   "source": [
    "#Eye function --> sets the diagonal to a different number\n",
    "np.eye(4)"
   ]
  },
  {
   "cell_type": "code",
   "execution_count": 51,
   "metadata": {},
   "outputs": [
    {
     "data": {
      "text/plain": [
       "array([[0.62455311, 0.27005803, 0.3785487 , 0.42612224],\n",
       "       [0.57354779, 0.5618106 , 0.98829004, 0.53200537]])"
      ]
     },
     "execution_count": 51,
     "metadata": {},
     "output_type": "execute_result"
    }
   ],
   "source": [
    "#Creating a random array with random numbers\n",
    "np.random.rand(2, 4)"
   ]
  },
  {
   "cell_type": "code",
   "execution_count": 55,
   "metadata": {},
   "outputs": [
    {
     "name": "stdout",
     "output_type": "stream",
     "text": [
      "[1 2 3]\n"
     ]
    },
    {
     "data": {
      "text/plain": [
       "1"
      ]
     },
     "execution_count": 55,
     "metadata": {},
     "output_type": "execute_result"
    }
   ],
   "source": [
    "#Number of dimensions\n",
    "a.ndim"
   ]
  },
  {
   "cell_type": "markdown",
   "metadata": {},
   "source": [
    "###### Sorting"
   ]
  },
  {
   "cell_type": "code",
   "execution_count": 63,
   "metadata": {},
   "outputs": [
    {
     "data": {
      "text/plain": [
       "array([-9,  1,  9, 27])"
      ]
     },
     "execution_count": 63,
     "metadata": {},
     "output_type": "execute_result"
    }
   ],
   "source": [
    "l = np.array([1,9,27,-9])\n",
    "np.sort(l)"
   ]
  },
  {
   "cell_type": "markdown",
   "metadata": {},
   "source": [
    "# Plot"
   ]
  },
  {
   "cell_type": "code",
   "execution_count": 64,
   "metadata": {},
   "outputs": [
    {
     "name": "stdout",
     "output_type": "stream",
     "text": [
      "[[ 7.5 -7.5]\n",
      " [-7.5  7.5]]\n",
      "homemade covariance: -7.5\n"
     ]
    }
   ],
   "source": [
    "#Homemade covariance\n",
    "x = np.arange(1,10)\n",
    "y = np.arange(9,0,-1)\n",
    "print(np.cov(x,y))\n",
    "print(f\"homemade covariance: {np.dot(x - np.mean(x),  y - np.mean(y))/(len(x) -1)}\")"
   ]
  },
  {
   "cell_type": "code",
   "execution_count": 65,
   "metadata": {},
   "outputs": [
    {
     "data": {
      "image/png": "[encoded data removed]",
      "text/plain": [
       "<Figure size 720x576 with 1 Axes>"
      ]
     },
     "metadata": {
      "needs_background": "light"
     },
     "output_type": "display_data"
    }
   ],
   "source": [
    "import matplotlib.pyplot as plt\n",
    "%matplotlib inline\n",
    "x = np.arange(1,10)\n",
    "y = np.arange(9,0,-1)\n",
    "x1 = x\n",
    "x2 = y\n",
    "# BUG: the following commented line of code does not work properly\n",
    "# x2 = x * 2.0 + np.random.rand() \n",
    "# WHY?\n",
    "# ans:  produces one random number only\n",
    "plt.figure(figsize=(10, 8))\n",
    "plt.scatter(x1, x2, s=60, label=\" x1 and x2\")\n",
    "plt.xlabel(\"x1\")\n",
    "plt.ylabel(\"x2\")\n",
    "#plt.xlim([0, 3.3])\n",
    "#plt.ylim([0, 8])\n",
    "plt.legend(loc=\"lower right\", fontsize=14)\n",
    "plt.grid(\"on\")\n",
    "plt.show()"
   ]
  },
  {
   "cell_type": "markdown",
   "metadata": {},
   "source": [
    "Array Creation Functions\n",
    "1. array - convert input data to an ndarry either by inferring a dtype or explicitly specifying a dtype. \n",
    "2. asarray - convert input to ndarray, but do not copy if the inoput is already an ndarray\n",
    "3. arange - like the built-in range but returns an ndarray instead of a list\n",
    "4. ones - produce an array of all 1s with the given shape and dtype\n",
    "5. zeros - like ones but zeros\n",
    "6. empty - create new arrays by allocating new memory, but do not populate with any values like ones and zeros \n",
    "7. full - produce an array of the given shape and dtype with all values set set to the indicated\n",
    "8. eye, identity - create a square n x n identity matrix (1s on diagonal and 0s elsewhere)"
   ]
  },
  {
   "cell_type": "code",
   "execution_count": 66,
   "metadata": {},
   "outputs": [
    {
     "data": {
      "text/plain": [
       "array([1., 2., 3.])"
      ]
     },
     "execution_count": 66,
     "metadata": {},
     "output_type": "execute_result"
    }
   ],
   "source": [
    "arr1 = np.array([1,2,3], dtype = np.float64)\n",
    "#assigning dtype\n",
    "arr1"
   ]
  },
  {
   "cell_type": "code",
   "execution_count": 67,
   "metadata": {},
   "outputs": [
    {
     "data": {
      "text/plain": [
       "array([1, 2, 3], dtype=int32)"
      ]
     },
     "execution_count": 67,
     "metadata": {},
     "output_type": "execute_result"
    }
   ],
   "source": [
    "arr1.astype(np.int32)"
   ]
  },
  {
   "cell_type": "markdown",
   "metadata": {},
   "source": [
    "# PD07 - Data Cleaning and Preperation"
   ]
  },
  {
   "cell_type": "code",
   "execution_count": 68,
   "metadata": {},
   "outputs": [],
   "source": [
    "import numpy as np\n",
    "import pandas as pd\n",
    "import matplotlib.pyplot as plt"
   ]
  },
  {
   "cell_type": "markdown",
   "metadata": {},
   "source": [
    "##### Representing missing data"
   ]
  },
  {
   "cell_type": "code",
   "execution_count": 69,
   "metadata": {},
   "outputs": [
    {
     "name": "stdout",
     "output_type": "stream",
     "text": [
      "0     aardvark\n",
      "1    artichoke\n",
      "2          NaN\n",
      "3      avocado\n",
      "dtype: object\n"
     ]
    },
    {
     "data": {
      "text/plain": [
       "0     True\n",
       "1    False\n",
       "2     True\n",
       "3    False\n",
       "dtype: bool"
      ]
     },
     "execution_count": 69,
     "metadata": {},
     "output_type": "execute_result"
    }
   ],
   "source": [
    "#np.nan!!!!\n",
    "string_data = pd.Series(['aardvark', 'artichoke', np.nan, 'avocado'])\n",
    "print(string_data)\n",
    "string_data[0] = None # <-- also a way of making something null!!\n",
    "string_data.isnull()"
   ]
  },
  {
   "cell_type": "markdown",
   "metadata": {},
   "source": [
    "Dataframes have a collection of series"
   ]
  },
  {
   "cell_type": "markdown",
   "metadata": {},
   "source": [
    "##### Filtering out non-existant data"
   ]
  },
  {
   "cell_type": "code",
   "execution_count": 70,
   "metadata": {},
   "outputs": [
    {
     "name": "stdout",
     "output_type": "stream",
     "text": [
      "0    1.0\n",
      "1    NaN\n",
      "2    3.5\n",
      "3    NaN\n",
      "4    7.0\n",
      "dtype: float64\n"
     ]
    },
    {
     "data": {
      "text/plain": [
       "0    1.0\n",
       "2    3.5\n",
       "4    7.0\n",
       "dtype: float64"
      ]
     },
     "execution_count": 70,
     "metadata": {},
     "output_type": "execute_result"
    }
   ],
   "source": [
    "from numpy import nan as NA\n",
    "data = pd.Series([1, NA, 3.5, NA, 7])\n",
    "print(data)\n",
    "data.dropna() #or data[data.notnull()]"
   ]
  },
  {
   "cell_type": "markdown",
   "metadata": {},
   "source": [
    "##### Dropping a full row with all non-existant data"
   ]
  },
  {
   "cell_type": "code",
   "execution_count": 73,
   "metadata": {},
   "outputs": [
    {
     "name": "stdout",
     "output_type": "stream",
     "text": [
      "     0    1    2\n",
      "0  1.0  6.5  3.0\n",
      "1  1.0  NaN  NaN\n",
      "2  NaN  NaN  NaN\n",
      "3  NaN  6.5  3.0\n",
      "_________________________\n",
      "     0    1    2\n",
      "0  1.0  6.5  3.0\n",
      "1  1.0  NaN  NaN\n",
      "3  NaN  6.5  3.0\n"
     ]
    }
   ],
   "source": [
    "data = pd.DataFrame([[1., 6.5, 3.], [1., NA, NA],\n",
    "                     [NA, NA, NA], [NA, 6.5, 3.]])\n",
    "cleaned = data.dropna(how='all') \n",
    "print(data)\n",
    "print(\"_\"*25)\n",
    "print(cleaned)"
   ]
  },
  {
   "cell_type": "markdown",
   "metadata": {},
   "source": [
    "##### Dropping a full column with all non-existant data"
   ]
  },
  {
   "cell_type": "code",
   "execution_count": 74,
   "metadata": {},
   "outputs": [
    {
     "name": "stdout",
     "output_type": "stream",
     "text": [
      "     0    1    2   4\n",
      "0  1.0  6.5  3.0 NaN\n",
      "1  1.0  NaN  NaN NaN\n",
      "2  NaN  NaN  NaN NaN\n",
      "3  NaN  6.5  3.0 NaN\n",
      "     0    1    2\n",
      "0  1.0  6.5  3.0\n",
      "1  1.0  NaN  NaN\n",
      "2  NaN  NaN  NaN\n",
      "3  NaN  6.5  3.0\n"
     ]
    }
   ],
   "source": [
    "data[4] = NA #adds a row of NAs\n",
    "print(data)\n",
    "print(data.dropna(axis=1, how='all')) # drops a column of NAs"
   ]
  },
  {
   "cell_type": "markdown",
   "metadata": {},
   "source": [
    "##### Creating a random Dataframe with THRESH observations!"
   ]
  },
  {
   "cell_type": "code",
   "execution_count": 75,
   "metadata": {},
   "outputs": [
    {
     "name": "stdout",
     "output_type": "stream",
     "text": [
      "          0         1         2\n",
      "0 -0.053238       NaN       NaN\n",
      "1 -2.631436       NaN       NaN\n",
      "2  0.166083       NaN  0.781099\n",
      "3 -1.474173       NaN -0.597831\n",
      "4 -0.456628  0.521545  1.346224\n",
      "5  0.820067  1.513048 -1.852894\n",
      "6  0.285396  0.167355  0.534023\n",
      "          0         1         2\n",
      "2  0.166083       NaN  0.781099\n",
      "3 -1.474173       NaN -0.597831\n",
      "4 -0.456628  0.521545  1.346224\n",
      "5  0.820067  1.513048 -1.852894\n",
      "6  0.285396  0.167355  0.534023\n"
     ]
    }
   ],
   "source": [
    "df = pd.DataFrame(np.random.randn(7, 3))\n",
    "df.iloc[:4, 1] = NA\n",
    "df.iloc[:2, 2] = NA\n",
    "print(df)\n",
    "print(df.dropna(thresh=2)) #  Suppose you want to keep only rows containing a certain number of observations."
   ]
  },
  {
   "cell_type": "markdown",
   "metadata": {},
   "source": [
    "##### Filling in missing data into a dataframe and Filling in specific values for each column"
   ]
  },
  {
   "cell_type": "code",
   "execution_count": 76,
   "metadata": {},
   "outputs": [
    {
     "name": "stdout",
     "output_type": "stream",
     "text": [
      "          0         1         2\n",
      "0 -0.053238  0.000000  0.000000\n",
      "1 -2.631436  0.000000  0.000000\n",
      "2  0.166083  0.000000  0.781099\n",
      "3 -1.474173  0.000000 -0.597831\n",
      "4 -0.456628  0.521545  1.346224\n",
      "5  0.820067  1.513048 -1.852894\n",
      "6  0.285396  0.167355  0.534023\n",
      "          0           1           2\n",
      "0 -0.053238  111.000000  222.000000\n",
      "1 -2.631436  111.000000  222.000000\n",
      "2  0.166083  111.000000    0.781099\n",
      "3 -1.474173  111.000000   -0.597831\n",
      "4 -0.456628    0.521545    1.346224\n",
      "5  0.820067    1.513048   -1.852894\n",
      "6  0.285396    0.167355    0.534023\n"
     ]
    }
   ],
   "source": [
    "print(df.fillna(0))\n",
    "print(df.fillna({1: 111, 2: 222}))"
   ]
  },
  {
   "cell_type": "markdown",
   "metadata": {},
   "source": [
    "##### Forward filling example"
   ]
  },
  {
   "cell_type": "code",
   "execution_count": 77,
   "metadata": {},
   "outputs": [
    {
     "name": "stdout",
     "output_type": "stream",
     "text": [
      "          0         1         2\n",
      "0  0.702828  0.148007 -0.273874\n",
      "1  0.982805  2.228974  0.925962\n",
      "2 -0.254150       NaN -0.112621\n",
      "3  0.119479       NaN -0.087535\n",
      "4 -0.991274       NaN       NaN\n",
      "5 -1.036812       NaN       NaN\n",
      "          0         1         2\n",
      "0  0.702828  0.148007 -0.273874\n",
      "1  0.982805  2.228974  0.925962\n",
      "2 -0.254150  2.228974 -0.112621\n",
      "3  0.119479  2.228974 -0.087535\n",
      "4 -0.991274       NaN -0.087535\n",
      "5 -1.036812       NaN -0.087535\n"
     ]
    }
   ],
   "source": [
    "df = pd.DataFrame(np.random.randn(6, 3))\n",
    "df.iloc[2:, 1] = NA\n",
    "df.iloc[4:, 2] = NA\n",
    "print(df)\n",
    "print(df.fillna(method='ffill', limit=2))"
   ]
  },
  {
   "cell_type": "markdown",
   "metadata": {},
   "source": [
    "##### NA Handling Methods\n",
    "1. dropna = filter axis labels based on whether values for each label have missing data, with varying thresholds for how much missing data to tolerate\n",
    "2. fillna = fill in missing data with some value or using an interpolations method such as 'ffill' or 'bfill' ffill stands for **Foward Fill**\n",
    "3. isnull = returns boolean values indicating which values are missing/NA\n",
    "4. notnull = negation of isnull"
   ]
  },
  {
   "cell_type": "markdown",
   "metadata": {},
   "source": [
    "##### Panda filling NA with averages"
   ]
  },
  {
   "cell_type": "code",
   "execution_count": 78,
   "metadata": {},
   "outputs": [
    {
     "data": {
      "text/plain": [
       "0    1.000000\n",
       "1    3.833333\n",
       "2    3.500000\n",
       "3    3.833333\n",
       "4    7.000000\n",
       "dtype: float64"
      ]
     },
     "execution_count": 78,
     "metadata": {},
     "output_type": "execute_result"
    }
   ],
   "source": [
    "data = pd.Series([1., NA, 3.5, NA, 7])\n",
    "data.fillna(data.mean()) # this fills in the NAs with the average for the series"
   ]
  },
  {
   "cell_type": "code",
   "execution_count": 79,
   "metadata": {},
   "outputs": [
    {
     "name": "stdout",
     "output_type": "stream",
     "text": [
      "0    False\n",
      "1    False\n",
      "2    False\n",
      "3    False\n",
      "4    False\n",
      "5    False\n",
      "6     True\n",
      "dtype: bool\n",
      "    k1  k2\n",
      "0  one   1\n",
      "1  two   1\n",
      "    k1  k2\n",
      "0  one   1\n",
      "1  two   1\n",
      "2  one   2\n",
      "3  two   3\n",
      "4  one   3\n",
      "6  two   4\n"
     ]
    }
   ],
   "source": [
    "data = pd.DataFrame({'k1': ['one', 'two'] * 3 + ['two'],\n",
    "                     'k2': [1, 1, 2, 3, 3, 4, 4]})\n",
    "print(data.duplicated()) # finds duplicated data\n",
    "print(data.drop_duplicates(['k1'])) #focus on the k1 column\n",
    "print(data.drop_duplicates(['k1', 'k2'], keep='last'))"
   ]
  },
  {
   "cell_type": "markdown",
   "metadata": {},
   "source": [
    "##### Transforming a dataframe using a function or mapping"
   ]
  },
  {
   "cell_type": "code",
   "execution_count": 80,
   "metadata": {},
   "outputs": [
    {
     "data": {
      "text/html": [
       "<div>\n",
       "<style scoped>\n",
       "    .dataframe tbody tr th:only-of-type {\n",
       "        vertical-align: middle;\n",
       "    }\n",
       "\n",
       "    .dataframe tbody tr th {\n",
       "        vertical-align: top;\n",
       "    }\n",
       "\n",
       "    .dataframe thead th {\n",
       "        text-align: right;\n",
       "    }\n",
       "</style>\n",
       "<table border=\"1\" class=\"dataframe\">\n",
       "  <thead>\n",
       "    <tr style=\"text-align: right;\">\n",
       "      <th></th>\n",
       "      <th>food</th>\n",
       "      <th>ounces</th>\n",
       "      <th>animal</th>\n",
       "    </tr>\n",
       "  </thead>\n",
       "  <tbody>\n",
       "    <tr>\n",
       "      <td>0</td>\n",
       "      <td>bacon</td>\n",
       "      <td>4.0</td>\n",
       "      <td>pig</td>\n",
       "    </tr>\n",
       "    <tr>\n",
       "      <td>1</td>\n",
       "      <td>pulled pork</td>\n",
       "      <td>3.0</td>\n",
       "      <td>pig</td>\n",
       "    </tr>\n",
       "    <tr>\n",
       "      <td>2</td>\n",
       "      <td>bacon</td>\n",
       "      <td>12.0</td>\n",
       "      <td>pig</td>\n",
       "    </tr>\n",
       "    <tr>\n",
       "      <td>3</td>\n",
       "      <td>Pastrami</td>\n",
       "      <td>6.0</td>\n",
       "      <td>cow</td>\n",
       "    </tr>\n",
       "    <tr>\n",
       "      <td>4</td>\n",
       "      <td>corned beef</td>\n",
       "      <td>7.5</td>\n",
       "      <td>cow</td>\n",
       "    </tr>\n",
       "    <tr>\n",
       "      <td>5</td>\n",
       "      <td>Bacon</td>\n",
       "      <td>8.0</td>\n",
       "      <td>pig</td>\n",
       "    </tr>\n",
       "    <tr>\n",
       "      <td>6</td>\n",
       "      <td>pastrami</td>\n",
       "      <td>3.0</td>\n",
       "      <td>cow</td>\n",
       "    </tr>\n",
       "    <tr>\n",
       "      <td>7</td>\n",
       "      <td>honey ham</td>\n",
       "      <td>5.0</td>\n",
       "      <td>pig</td>\n",
       "    </tr>\n",
       "    <tr>\n",
       "      <td>8</td>\n",
       "      <td>nova lox</td>\n",
       "      <td>6.0</td>\n",
       "      <td>salmon</td>\n",
       "    </tr>\n",
       "  </tbody>\n",
       "</table>\n",
       "</div>"
      ],
      "text/plain": [
       "          food  ounces  animal\n",
       "0        bacon     4.0     pig\n",
       "1  pulled pork     3.0     pig\n",
       "2        bacon    12.0     pig\n",
       "3     Pastrami     6.0     cow\n",
       "4  corned beef     7.5     cow\n",
       "5        Bacon     8.0     pig\n",
       "6     pastrami     3.0     cow\n",
       "7    honey ham     5.0     pig\n",
       "8     nova lox     6.0  salmon"
      ]
     },
     "execution_count": 80,
     "metadata": {},
     "output_type": "execute_result"
    }
   ],
   "source": [
    "data = pd.DataFrame({'food': ['bacon', 'pulled pork', 'bacon',\n",
    "                              'Pastrami', 'corned beef', 'Bacon',\n",
    "                              'pastrami', 'honey ham', 'nova lox'],\n",
    "                     'ounces': [4, 3, 12, 6, 7.5, 8, 3, 5, 6]})\n",
    "meat_to_animal = {\n",
    "  'bacon': 'pig',\n",
    "  'pulled pork': 'pig',\n",
    "  'pastrami': 'cow',\n",
    "  'corned beef': 'cow',\n",
    "  'honey ham': 'pig',\n",
    "  'nova lox': 'salmon'\n",
    "}\n",
    "#using map function\n",
    "lowercased = data['food'].str.lower()\n",
    "lowercased\n",
    "data['animal'] = lowercased.map(meat_to_animal)\n",
    "data"
   ]
  },
  {
   "cell_type": "code",
   "execution_count": 81,
   "metadata": {},
   "outputs": [
    {
     "data": {
      "text/html": [
       "<div>\n",
       "<style scoped>\n",
       "    .dataframe tbody tr th:only-of-type {\n",
       "        vertical-align: middle;\n",
       "    }\n",
       "\n",
       "    .dataframe tbody tr th {\n",
       "        vertical-align: top;\n",
       "    }\n",
       "\n",
       "    .dataframe thead th {\n",
       "        text-align: right;\n",
       "    }\n",
       "</style>\n",
       "<table border=\"1\" class=\"dataframe\">\n",
       "  <thead>\n",
       "    <tr style=\"text-align: right;\">\n",
       "      <th></th>\n",
       "      <th>food</th>\n",
       "      <th>ounces</th>\n",
       "      <th>animal</th>\n",
       "    </tr>\n",
       "  </thead>\n",
       "  <tbody>\n",
       "    <tr>\n",
       "      <td>0</td>\n",
       "      <td>bacon</td>\n",
       "      <td>4.0</td>\n",
       "      <td>pig</td>\n",
       "    </tr>\n",
       "    <tr>\n",
       "      <td>1</td>\n",
       "      <td>pulled pork</td>\n",
       "      <td>3.0</td>\n",
       "      <td>pig</td>\n",
       "    </tr>\n",
       "    <tr>\n",
       "      <td>2</td>\n",
       "      <td>bacon</td>\n",
       "      <td>12.0</td>\n",
       "      <td>pig</td>\n",
       "    </tr>\n",
       "    <tr>\n",
       "      <td>3</td>\n",
       "      <td>Pastrami</td>\n",
       "      <td>NaN</td>\n",
       "      <td>cow</td>\n",
       "    </tr>\n",
       "    <tr>\n",
       "      <td>4</td>\n",
       "      <td>corned beef</td>\n",
       "      <td>7.5</td>\n",
       "      <td>cow</td>\n",
       "    </tr>\n",
       "    <tr>\n",
       "      <td>5</td>\n",
       "      <td>Bacon</td>\n",
       "      <td>8.0</td>\n",
       "      <td>pig</td>\n",
       "    </tr>\n",
       "    <tr>\n",
       "      <td>6</td>\n",
       "      <td>pastrami</td>\n",
       "      <td>3.0</td>\n",
       "      <td>cow</td>\n",
       "    </tr>\n",
       "    <tr>\n",
       "      <td>7</td>\n",
       "      <td>honey ham</td>\n",
       "      <td>5.0</td>\n",
       "      <td>pig</td>\n",
       "    </tr>\n",
       "    <tr>\n",
       "      <td>8</td>\n",
       "      <td>nova lox</td>\n",
       "      <td>NaN</td>\n",
       "      <td>salmon</td>\n",
       "    </tr>\n",
       "  </tbody>\n",
       "</table>\n",
       "</div>"
      ],
      "text/plain": [
       "          food  ounces  animal\n",
       "0        bacon     4.0     pig\n",
       "1  pulled pork     3.0     pig\n",
       "2        bacon    12.0     pig\n",
       "3     Pastrami     NaN     cow\n",
       "4  corned beef     7.5     cow\n",
       "5        Bacon     8.0     pig\n",
       "6     pastrami     3.0     cow\n",
       "7    honey ham     5.0     pig\n",
       "8     nova lox     NaN  salmon"
      ]
     },
     "execution_count": 81,
     "metadata": {},
     "output_type": "execute_result"
    }
   ],
   "source": [
    "#How to replace data in dataframe\n",
    "data.replace(6.0, np.nan)\n",
    "#data.replace([-999, -1000], np.nan) # more than one value replace"
   ]
  },
  {
   "cell_type": "markdown",
   "metadata": {},
   "source": [
    "##### Use a dict-based replacement scheme"
   ]
  },
  {
   "cell_type": "code",
   "execution_count": 82,
   "metadata": {},
   "outputs": [
    {
     "name": "stdout",
     "output_type": "stream",
     "text": [
      "   First Score  Second Score  Third Score\n",
      "0        100.0          30.0          NaN\n",
      "1         90.0          45.0         40.0\n",
      "2          NaN          56.0         80.0\n",
      "3         95.0           NaN         98.0\n"
     ]
    },
    {
     "data": {
      "text/html": [
       "<div>\n",
       "<style scoped>\n",
       "    .dataframe tbody tr th:only-of-type {\n",
       "        vertical-align: middle;\n",
       "    }\n",
       "\n",
       "    .dataframe tbody tr th {\n",
       "        vertical-align: top;\n",
       "    }\n",
       "\n",
       "    .dataframe thead th {\n",
       "        text-align: right;\n",
       "    }\n",
       "</style>\n",
       "<table border=\"1\" class=\"dataframe\">\n",
       "  <thead>\n",
       "    <tr style=\"text-align: right;\">\n",
       "      <th></th>\n",
       "      <th>First Score</th>\n",
       "      <th>Second Score</th>\n",
       "      <th>Third Score</th>\n",
       "    </tr>\n",
       "  </thead>\n",
       "  <tbody>\n",
       "    <tr>\n",
       "      <td>0</td>\n",
       "      <td>100.0</td>\n",
       "      <td>30.0</td>\n",
       "      <td>0.0</td>\n",
       "    </tr>\n",
       "    <tr>\n",
       "      <td>1</td>\n",
       "      <td>90.0</td>\n",
       "      <td>45.0</td>\n",
       "      <td>40.0</td>\n",
       "    </tr>\n",
       "    <tr>\n",
       "      <td>2</td>\n",
       "      <td>0.0</td>\n",
       "      <td>56.0</td>\n",
       "      <td>80.0</td>\n",
       "    </tr>\n",
       "    <tr>\n",
       "      <td>3</td>\n",
       "      <td>95.0</td>\n",
       "      <td>0.0</td>\n",
       "      <td>98.0</td>\n",
       "    </tr>\n",
       "  </tbody>\n",
       "</table>\n",
       "</div>"
      ],
      "text/plain": [
       "   First Score  Second Score  Third Score\n",
       "0        100.0          30.0          0.0\n",
       "1         90.0          45.0         40.0\n",
       "2          0.0          56.0         80.0\n",
       "3         95.0           0.0         98.0"
      ]
     },
     "execution_count": 82,
     "metadata": {},
     "output_type": "execute_result"
    }
   ],
   "source": [
    "# importing pandas as pd \n",
    "import pandas as pd \n",
    "  \n",
    "# importing numpy as np \n",
    "import numpy as np \n",
    "  \n",
    "# dictionary of lists \n",
    "dict = {'First Score':[100, 90, np.nan, 95], \n",
    "        'Second Score': [30, 45, 56, np.nan], \n",
    "        'Third Score':[np.nan, 40, 80, 98]} \n",
    "  \n",
    "# creating a dataframe from dictionary \n",
    "df = pd.DataFrame(dict) \n",
    "print(df)  \n",
    "# filling missing value using fillna() \n",
    "df.fillna(0.0)"
   ]
  },
  {
   "cell_type": "markdown",
   "metadata": {},
   "source": [
    "##### Renaming Axis Indexes"
   ]
  },
  {
   "cell_type": "code",
   "execution_count": 86,
   "metadata": {},
   "outputs": [
    {
     "data": {
      "text/html": [
       "<div>\n",
       "<style scoped>\n",
       "    .dataframe tbody tr th:only-of-type {\n",
       "        vertical-align: middle;\n",
       "    }\n",
       "\n",
       "    .dataframe tbody tr th {\n",
       "        vertical-align: top;\n",
       "    }\n",
       "\n",
       "    .dataframe thead th {\n",
       "        text-align: right;\n",
       "    }\n",
       "</style>\n",
       "<table border=\"1\" class=\"dataframe\">\n",
       "  <thead>\n",
       "    <tr style=\"text-align: right;\">\n",
       "      <th></th>\n",
       "      <th>one</th>\n",
       "      <th>two</th>\n",
       "      <th>three</th>\n",
       "      <th>four</th>\n",
       "    </tr>\n",
       "  </thead>\n",
       "  <tbody>\n",
       "    <tr>\n",
       "      <td>Ohio</td>\n",
       "      <td>0</td>\n",
       "      <td>1</td>\n",
       "      <td>2</td>\n",
       "      <td>3</td>\n",
       "    </tr>\n",
       "    <tr>\n",
       "      <td>Colorado</td>\n",
       "      <td>4</td>\n",
       "      <td>5</td>\n",
       "      <td>6</td>\n",
       "      <td>7</td>\n",
       "    </tr>\n",
       "    <tr>\n",
       "      <td>New York</td>\n",
       "      <td>8</td>\n",
       "      <td>9</td>\n",
       "      <td>10</td>\n",
       "      <td>11</td>\n",
       "    </tr>\n",
       "  </tbody>\n",
       "</table>\n",
       "</div>"
      ],
      "text/plain": [
       "          one  two  three  four\n",
       "Ohio        0    1      2     3\n",
       "Colorado    4    5      6     7\n",
       "New York    8    9     10    11"
      ]
     },
     "execution_count": 86,
     "metadata": {},
     "output_type": "execute_result"
    }
   ],
   "source": [
    "data = pd.DataFrame(np.arange(12).reshape((3, 4)),\n",
    "                    index=['Ohio', 'Colorado', 'New York'],\n",
    "                    columns=['one', 'two', 'three', 'four'])\n",
    "data"
   ]
  },
  {
   "cell_type": "markdown",
   "metadata": {},
   "source": [
    "##### Detecting and Filtering Outliers"
   ]
  },
  {
   "cell_type": "code",
   "execution_count": 87,
   "metadata": {},
   "outputs": [
    {
     "data": {
      "text/html": [
       "<div>\n",
       "<style scoped>\n",
       "    .dataframe tbody tr th:only-of-type {\n",
       "        vertical-align: middle;\n",
       "    }\n",
       "\n",
       "    .dataframe tbody tr th {\n",
       "        vertical-align: top;\n",
       "    }\n",
       "\n",
       "    .dataframe thead th {\n",
       "        text-align: right;\n",
       "    }\n",
       "</style>\n",
       "<table border=\"1\" class=\"dataframe\">\n",
       "  <thead>\n",
       "    <tr style=\"text-align: right;\">\n",
       "      <th></th>\n",
       "      <th>0</th>\n",
       "      <th>1</th>\n",
       "      <th>2</th>\n",
       "      <th>3</th>\n",
       "    </tr>\n",
       "  </thead>\n",
       "  <tbody>\n",
       "    <tr>\n",
       "      <td>count</td>\n",
       "      <td>1000.000000</td>\n",
       "      <td>1000.000000</td>\n",
       "      <td>1000.000000</td>\n",
       "      <td>1000.000000</td>\n",
       "    </tr>\n",
       "    <tr>\n",
       "      <td>mean</td>\n",
       "      <td>0.048884</td>\n",
       "      <td>-0.041262</td>\n",
       "      <td>-0.013323</td>\n",
       "      <td>0.000270</td>\n",
       "    </tr>\n",
       "    <tr>\n",
       "      <td>std</td>\n",
       "      <td>1.036367</td>\n",
       "      <td>0.984771</td>\n",
       "      <td>1.028556</td>\n",
       "      <td>0.993145</td>\n",
       "    </tr>\n",
       "    <tr>\n",
       "      <td>min</td>\n",
       "      <td>-2.859971</td>\n",
       "      <td>-3.071613</td>\n",
       "      <td>-3.322400</td>\n",
       "      <td>-3.407511</td>\n",
       "    </tr>\n",
       "    <tr>\n",
       "      <td>25%</td>\n",
       "      <td>-0.637691</td>\n",
       "      <td>-0.715563</td>\n",
       "      <td>-0.670525</td>\n",
       "      <td>-0.639695</td>\n",
       "    </tr>\n",
       "    <tr>\n",
       "      <td>50%</td>\n",
       "      <td>0.050512</td>\n",
       "      <td>0.004018</td>\n",
       "      <td>-0.009419</td>\n",
       "      <td>-0.063957</td>\n",
       "    </tr>\n",
       "    <tr>\n",
       "      <td>75%</td>\n",
       "      <td>0.738613</td>\n",
       "      <td>0.588375</td>\n",
       "      <td>0.647159</td>\n",
       "      <td>0.695627</td>\n",
       "    </tr>\n",
       "    <tr>\n",
       "      <td>max</td>\n",
       "      <td>3.601001</td>\n",
       "      <td>2.962069</td>\n",
       "      <td>3.460316</td>\n",
       "      <td>2.687303</td>\n",
       "    </tr>\n",
       "  </tbody>\n",
       "</table>\n",
       "</div>"
      ],
      "text/plain": [
       "                 0            1            2            3\n",
       "count  1000.000000  1000.000000  1000.000000  1000.000000\n",
       "mean      0.048884    -0.041262    -0.013323     0.000270\n",
       "std       1.036367     0.984771     1.028556     0.993145\n",
       "min      -2.859971    -3.071613    -3.322400    -3.407511\n",
       "25%      -0.637691    -0.715563    -0.670525    -0.639695\n",
       "50%       0.050512     0.004018    -0.009419    -0.063957\n",
       "75%       0.738613     0.588375     0.647159     0.695627\n",
       "max       3.601001     2.962069     3.460316     2.687303"
      ]
     },
     "execution_count": 87,
     "metadata": {},
     "output_type": "execute_result"
    }
   ],
   "source": [
    "data = pd.DataFrame(np.random.randn(1000, 4))\n",
    "data.describe()"
   ]
  },
  {
   "cell_type": "markdown",
   "metadata": {},
   "source": [
    "##### String Manipulation, regexes and pandas\n",
    "1. simple string ops Most text operations are made simple with the string object’s built-in methods.\n",
    "2. re: versus more complex pattern matching and text manipulations, where regular expressions may be needed.\n",
    "3. Vectorized String Functions in pandas\n",
    "pandas adds to the mix by enabling you to apply string and regular expressions concisely on whole arrays of data, additionally handling the annoyance of missing data.\n",
    "4. **split()** is often combined with **strip()** to trim whitespace (including line breaks). The strip() method returns a copy of the string with both leading and trailing characters removed (based on the string argument passed). The strip() removes characters from both left and right based on the argument (a string specifying the set of characters to be removed)."
   ]
  },
  {
   "cell_type": "code",
   "execution_count": 88,
   "metadata": {},
   "outputs": [
    {
     "name": "stdout",
     "output_type": "stream",
     "text": [
      "['a', 'b', 'guido']\n",
      "['a', 'b', 'guido']\n"
     ]
    }
   ],
   "source": [
    "val = 'a,b,guido'\n",
    "print(val.split(','))\n",
    "pieces = [x.strip() for x in val.split(',')]\n",
    "print(pieces)"
   ]
  },
  {
   "cell_type": "markdown",
   "metadata": {},
   "source": [
    "##### 1.3.2  Regular Expressions (REGEX)\n",
    "###### 1.3.2.1  Searching Text using Regex\n",
    "The re package has several built in functions that can be used to apply a regex string to a body of text and find matches among other things. I will go over a few, and explain the differences between them.\n",
    "\n",
    "All of these functions take at least two arguments:\n",
    "\n",
    "the pattern to match (regex string)\n",
    "and the text to search.\n",
    "The following three functions return a match object, which consists of the index of the string matched (start and stop), as well as what string the function matched. They are also limited to finding one match per query.\n",
    "\n",
    "re.search(): finds the first instance matching the pattern, returns a match object or None\n",
    "re.match(): finds an instance of the pattern only at the beginning of the string, returns a match object or None\n",
    "re.f"
   ]
  },
  {
   "cell_type": "code",
   "execution_count": 90,
   "metadata": {},
   "outputs": [
    {
     "name": "stdout",
     "output_type": "stream",
     "text": [
      "Adam Smith\n",
      "Adam\n",
      "Smith\n"
     ]
    }
   ],
   "source": [
    "#Example of using re.match\n",
    "import re\n",
    "m = re.match(r\"(\\w+) (\\w+)\", \"Adam Smith\")\n",
    "print(m.group())\n",
    "print(m.group(1))\n",
    "print(m.group(2))"
   ]
  },
  {
   "cell_type": "code",
   "execution_count": 91,
   "metadata": {},
   "outputs": [
    {
     "data": {
      "text/plain": [
       "('xxx', '783', '3005')"
      ]
     },
     "execution_count": 91,
     "metadata": {},
     "output_type": "execute_result"
    }
   ],
   "source": [
    "#importing a default value for something like a phone number\n",
    "import re\n",
    "m = re.match(r\"(\\d{3})?[.|\\-]?(\\d{3})[.|\\-]?(\\d{4})\", \"783.3005\")\n",
    "m.groups('xxx')\n",
    "# ('xxx', '783', '3005')"
   ]
  },
  {
   "cell_type": "code",
   "execution_count": 92,
   "metadata": {
    "scrolled": true
   },
   "outputs": [
    {
     "data": {
      "text/plain": [
       "{'first': 'Adam', 'last': 'Smith'}"
      ]
     },
     "execution_count": 92,
     "metadata": {},
     "output_type": "execute_result"
    }
   ],
   "source": [
    "#re groups\n",
    "import re\n",
    "m = re.match(r\"(?P<first>\\w+) (?P<last>\\w+)\", \"Adam Smith\")\n",
    "m.groupdict()\n",
    "# {'first': 'Adam', 'last': 'Smith'}"
   ]
  },
  {
   "cell_type": "markdown",
   "metadata": {},
   "source": [
    "##### Finding words in a string"
   ]
  },
  {
   "cell_type": "code",
   "execution_count": 93,
   "metadata": {},
   "outputs": [
    {
     "name": "stdout",
     "output_type": "stream",
     "text": [
      "found word:cat\n"
     ]
    }
   ],
   "source": [
    "str = 'an example word:cat!!'\n",
    "match = re.search(r'word:\\w\\w\\w', str)\n",
    "# If-statement after search() tests if it succeeded\n",
    "if match:\n",
    "      print('found', match.group()) ## 'found word:cat'\n",
    "else:\n",
    "      print('did not find')"
   ]
  },
  {
   "cell_type": "markdown",
   "metadata": {},
   "source": [
    "##### Basic Patterns\n",
    "The power of regular expressions is that they can specify patterns, not just fixed characters. Here are the most basic patterns which match single chars:\n",
    "\n",
    "1. a, X, 9, < -- ordinary characters just match themselves exactly. The meta-characters which do not match themselves because they have special meanings are: . ^ $ * + ? { [ ] \\ | ( ) (details below)\n",
    "\n",
    "2. . (a period) -- matches any single character except newline '\\n'\n",
    "\n",
    "3. \\w -- (lowercase w) matches a \"word\" character: a letter or digit or underbar [a-zA-Z0-9_]. Note that although \"word\" is the mnemonic for this, it only matches a single word char, not a whole word. \\W (upper case W) matches any non-word character.\n",
    "\n",
    "4. \\b -- boundary between word and non-word\n",
    "\n",
    "5. \\s -- (lowercase s) matches a single whitespace character -- space, newline, return, tab, form [ \\n\\r\\t\\f]. \\S (upper case S) matches any non-whitespace character.\n",
    "\n",
    "6. \\t, \\n, \\r -- tab, newline, return\n",
    "\n",
    "7. \\d -- decimal digit [0-9] (some older regex utilities do not support but \\d, but they all support \\w and \\s)\n",
    "\n",
    "8. ^ = start, $ = end -- match the start or end of the string\n",
    "\\ -- inhibit the \"specialness\" of a character. So, for example, use \\. to match a period or \\\\ to match a slash. If you are unsure if a character has special meaning, such as '@', you can put a slash in front of it, \\@, to make sure it is treated just as a character."
   ]
  },
  {
   "cell_type": "markdown",
   "metadata": {},
   "source": [
    "##### Using spaces to separate words."
   ]
  },
  {
   "cell_type": "code",
   "execution_count": 99,
   "metadata": {},
   "outputs": [
    {
     "name": "stdout",
     "output_type": "stream",
     "text": [
      "Number of spaces:3\n"
     ]
    },
    {
     "data": {
      "text/plain": [
       "['foo', 'bar', 'baz', 'qux']"
      ]
     },
     "execution_count": 99,
     "metadata": {},
     "output_type": "execute_result"
    }
   ],
   "source": [
    "import re\n",
    "import numpy as np\n",
    "import math\n",
    "text = \"foo bar baz qux\" # A string with lots of white space characters (spaces/tabs)\n",
    "a = text.count(\" \")\n",
    "print(f\"Number of spaces:{a}\") #counting characters in text\n",
    "(re.split('\\s+', text))"
   ]
  },
  {
   "cell_type": "markdown",
   "metadata": {},
   "source": [
    "findall(): get a list of all patterns matching the regex"
   ]
  },
  {
   "cell_type": "code",
   "execution_count": 100,
   "metadata": {},
   "outputs": [
    {
     "data": {
      "text/plain": [
       "['    ', '\\t ', '  \\t']"
      ]
     },
     "execution_count": 100,
     "metadata": {},
     "output_type": "execute_result"
    }
   ],
   "source": [
    "regex = re.compile('\\s+') # Declare a regex object (as it is much faster BUT not necessary)\n",
    "text = \"foo    bar\\t baz  \\tqux\" # A string with lots of white space characters (spaces/tabs)\n",
    "regex.findall(text)      "
   ]
  },
  {
   "cell_type": "markdown",
   "metadata": {},
   "source": [
    "While **findall()** returns **all** matches in a string, **search** returns only the **first** match. "
   ]
  },
  {
   "cell_type": "markdown",
   "metadata": {},
   "source": [
    "###### Regular Expression Basics\n",
    "1. . Any character except newline\n",
    "2. a The character a\n",
    "3. ab The string ab\n",
    "4. a|b A or b\n",
    "5. a* 0 or more a's\n",
    "6. \\ Escapes a special character\n",
    "###### Regular Expression Quantifiers\n",
    "1. \"*\" 0 or more\n",
    "2. \"+\" 1 or more\n",
    "3. ? 0 or 1\n",
    "4. {2} exactly 2\n",
    "5. {2,5} between 2 and 5\n",
    "6. {2,} 2 or more\n",
    "7. {,5} Up to 5\n",
    "###### Regular Expression Groups\n",
    "1. (...) capturing group\n",
    "2. (?PY...) capturing group named Y <-- Y is surrounded by carrots\n",
    "3. (?:....) non-capturing group\n",
    "4. \\Y Match the Y'th captured group\n",
    "5. (?P=Y) Match the named group Y)\n",
    "6. (?#...) Comment\n",
    "###### Regular Expression\n",
    "1. [ab-d] One character of: a,b,c,d\n",
    "2. [^ab-d] One character except:a,b,c,d\n",
    "3. [\\b] backspace character\n",
    "4. \\d one digit\n",
    "5. \\D one non-digit\n",
    "6. \\s one whitespace\n",
    "7. \\S one non-whitespace\n",
    "8. \\w one word character\n",
    "9. \\W one non-word charcter\n",
    "###### Regulat Expression Assertions\n",
    "1. ^ Start of string\n",
    "2. \\A Start of string, ignores m flag\n",
    "3. $ End of String\n",
    "4. \\Z End of String ignores m flag\n",
    "5. \\b Word boundary\n",
    "6. \\B non-word boundary\n",
    "7. (?=...) positive lookahead\n",
    "8. (?!...) negative lookahead\n",
    "9. (?<=...) Positive lookbehind\n",
    "10. (?<!...) Negative lookbehind\n",
    "11. (?()|) conditional\n",
    "\n",
    "Regex objects:\n",
    "findall() returns all matches in a string,\n",
    "search returns only the first match.\n",
    "More rigidly, match only matches at the beginning of the string.\n",
    "split() splits a string using the provided regex pattern\n",
    "substitution: this will be discussed below"
   ]
  },
  {
   "cell_type": "code",
   "execution_count": 101,
   "metadata": {},
   "outputs": [
    {
     "data": {
      "text/plain": [
       "['dave@google.com', 'steve@gmail.com', 'rob@gmail.com', 'ryan@yahoo.com']"
      ]
     },
     "execution_count": 101,
     "metadata": {},
     "output_type": "execute_result"
    }
   ],
   "source": [
    "# Seperating emails or Email\n",
    "text = \"\"\"Dave dave@google.com\n",
    "Steve steve@gmail.com\n",
    "Rob rob@gmail.com\n",
    "Ryan ryan@yahoo.com\n",
    "\"\"\"\n",
    "#regex pattern\n",
    "# This part of the regex [A-Z0-9._%+-]+\n",
    "# matches 1 or more characters from A-Z, 0-9, ., _, %, +, -\n",
    "#\n",
    "# r'[A-Z0-9._%+-]+@[A-Z0-9.-]+\\.[A-Z]{2,4}'\n",
    "# matches patterns of the following form\n",
    "#   username      @ domain_name.SUFFIX (such as country/.com/.net (always 2 to 4 characters))\n",
    "pattern = r'[A-Z0-9._%+-]+@[A-Z0-9.-]+\\.[A-Z]{2,4}'\n",
    "\n",
    "# re.IGNORECASE makes the regex case-insensitive\n",
    "regex = re.compile(pattern, flags=re.IGNORECASE)\n",
    "regex.findall(text)"
   ]
  },
  {
   "cell_type": "code",
   "execution_count": 102,
   "metadata": {},
   "outputs": [
    {
     "data": {
      "text/plain": [
       "'dave@google.com'"
      ]
     },
     "execution_count": 102,
     "metadata": {},
     "output_type": "execute_result"
    }
   ],
   "source": [
    "m = regex.search(text)\n",
    "m\n",
    "text[m.start():m.end()]"
   ]
  },
  {
   "cell_type": "markdown",
   "metadata": {},
   "source": [
    "regex.match() REQUIRES patterns occurs at the start of the string"
   ]
  },
  {
   "cell_type": "code",
   "execution_count": 103,
   "metadata": {},
   "outputs": [
    {
     "name": "stdout",
     "output_type": "stream",
     "text": [
      "ORIGINAL STRING\n",
      "Dave dave@google.com\n",
      "Steve steve@gmail.com\n",
      "Rob rob@gmail.com\n",
      "Ryan ryan@yahoo.com\n",
      "\n",
      "EMAIL REDACTED STRING\n",
      "Dave eric\n",
      "Steve eric\n",
      "Rob eric\n",
      "Ryan eric\n",
      "\n"
     ]
    }
   ],
   "source": [
    "#subbing in words into other locations\n",
    "print(f\"ORIGINAL STRING\\n{text}\")\n",
    "print(f\"EMAIL REDACTED STRING\\n{regex.sub('eric', text)}\")"
   ]
  },
  {
   "cell_type": "code",
   "execution_count": 104,
   "metadata": {},
   "outputs": [
    {
     "data": {
      "text/plain": [
       "['dave@google.com', 'steve@gmail.com', 'rob@gmail.com', 'ryan@yahoo.com']"
      ]
     },
     "execution_count": 104,
     "metadata": {},
     "output_type": "execute_result"
    }
   ],
   "source": [
    "regex.findall(text)"
   ]
  },
  {
   "cell_type": "code",
   "execution_count": 105,
   "metadata": {
    "scrolled": true
   },
   "outputs": [
    {
     "name": "stdout",
     "output_type": "stream",
     "text": [
      "regex pattern: ([A-Z0-9._%+-]+)@([A-Z0-9.-]+)\\.([A-Z]{2,4})\n",
      "ORIGINAL STRING\n",
      "Dave dave@google.com\n",
      "Steve steve@gmail.com\n",
      "Rob rob@gmail.com\n",
      "Ryan ryan@yahoo.com\n",
      "\n"
     ]
    },
    {
     "data": {
      "text/plain": [
       "[('dave', 'google', 'com'),\n",
       " ('steve', 'gmail', 'com'),\n",
       " ('rob', 'gmail', 'com'),\n",
       " ('ryan', 'yahoo', 'com')]"
      ]
     },
     "execution_count": 105,
     "metadata": {},
     "output_type": "execute_result"
    }
   ],
   "source": [
    "text = \"\"\"Dave dave@google.com\n",
    "Steve steve@gmail.com\n",
    "Rob rob@gmail.com\n",
    "Ryan ryan@yahoo.com\n",
    "\"\"\"\n",
    "\n",
    "#                name       @  domain      . suffix\n",
    "pattern = r'([A-Z0-9._%+-]+)@([A-Z0-9.-]+)\\.([A-Z]{2,4})'\n",
    "regex = re.compile(pattern, flags=re.IGNORECASE)\n",
    "print(f\"regex pattern: {pattern}\")\n",
    "print(f\"ORIGINAL STRING\\n{text}\")\n",
    "regex.findall(text)"
   ]
  },
  {
   "cell_type": "markdown",
   "metadata": {},
   "source": [
    "###### Repetition examples"
   ]
  },
  {
   "cell_type": "code",
   "execution_count": 106,
   "metadata": {},
   "outputs": [
    {
     "name": "stdout",
     "output_type": "stream",
     "text": [
      "<re.Match object; span=(0, 4), match='piii'>\n",
      "<re.Match object; span=(1, 3), match='ii'>\n",
      "<re.Match object; span=(2, 9), match='1 2   3'>\n",
      "<re.Match object; span=(2, 7), match='12  3'>\n",
      "<re.Match object; span=(2, 5), match='123'>\n",
      "None\n",
      "<re.Match object; span=(3, 6), match='bar'>\n"
     ]
    }
   ],
   "source": [
    "## i+ = one or more i's, as many as possible.\n",
    "match = re.search(r'pi+', 'piiig') # found, match.group() == \"piii\"\n",
    "print(match)\n",
    "  ## Finds the first/leftmost solution, and within it drives the +\n",
    "  ## as far as possible (aka 'leftmost and largest').\n",
    "  ## In this example, note that it does not get to the second set of i's.\n",
    "match = re.search(r'i+', 'piigiiii') # found, match.group() == \"ii\"\n",
    "print(match)\n",
    "  ## \\s* = zero or more whitespace chars\n",
    "  ## Here look for 3 digits, possibly separated by whitespace.\n",
    "match = re.search(r'\\d\\s*\\d\\s*\\d', 'xx1 2   3xx') # found, match.group() == \"1 2   3\"\n",
    "print(match)\n",
    "match = re.search(r'\\d\\s*\\d\\s*\\d', 'xx12  3xx') # found, match.group() == \"12  3\"\n",
    "print(match)\n",
    "match = re.search(r'\\d\\s*\\d\\s*\\d', 'xx123xx') # found, match.group() == \"123\"\n",
    "print(match)\n",
    "  ## ^ = matches the start of string, so this fails:\n",
    "match = re.search(r'^b\\w+', 'foobar') # not found, match == None\n",
    "print(match) ## but without the ^ it succeeds:\n",
    "match = re.search(r'b\\w+', 'foobar') # found, match.group() == \"bar\"\n",
    "print(match)"
   ]
  },
  {
   "cell_type": "code",
   "execution_count": 107,
   "metadata": {},
   "outputs": [
    {
     "name": "stdout",
     "output_type": "stream",
     "text": [
      "b@google\n"
     ]
    }
   ],
   "source": [
    "#Emails example\n",
    "str = 'purple alice-b@google.com monkey dishwasher'\n",
    "match = re.search(r'\\w+@\\w+', str)\n",
    "if match:\n",
    "    print (match.group())  ## 'b@google'"
   ]
  },
  {
   "cell_type": "markdown",
   "metadata": {},
   "source": [
    "regex.match() returns None, as it only will match if the pattern occurs at the start of the string"
   ]
  },
  {
   "cell_type": "code",
   "execution_count": 108,
   "metadata": {},
   "outputs": [
    {
     "name": "stdout",
     "output_type": "stream",
     "text": [
      "Dave     dave@google.com\n",
      "Steve    steve@gmail.com\n",
      "Rob        rob@gmail.com\n",
      "Wes                  NaN\n",
      "dtype: object\n"
     ]
    },
    {
     "data": {
      "text/plain": [
       "Dave     False\n",
       "Steve    False\n",
       "Rob      False\n",
       "Wes       True\n",
       "dtype: bool"
      ]
     },
     "execution_count": 108,
     "metadata": {},
     "output_type": "execute_result"
    }
   ],
   "source": [
    "#Vectorized String Functions in Pandas\n",
    "import numpy as np\n",
    "import pandas as pd\n",
    "data = {'Dave': 'dave@google.com', 'Steve': 'steve@gmail.com',\n",
    "        'Rob': 'rob@gmail.com', 'Wes': np.nan}\n",
    "data = pd.Series(data)\n",
    "print(f\"{data}\")\n",
    "data.isnull()"
   ]
  },
  {
   "cell_type": "code",
   "execution_count": 109,
   "metadata": {},
   "outputs": [
    {
     "name": "stdout",
     "output_type": "stream",
     "text": [
      "True\n",
      "False\n"
     ]
    }
   ],
   "source": [
    "import re\n",
    "def is_allowed_specific_char(string):\n",
    "    charRe = re.compile(r'[^a-zA-Z0-9.]')\n",
    "    string = charRe.search(string)\n",
    "    return not bool(string)\n",
    "\n",
    "print(is_allowed_specific_char(\"ABCDEFabcdef123450\")) \n",
    "print(is_allowed_specific_char(\"*&%@#!}{\"))"
   ]
  }
 ],
 "metadata": {
  "kernelspec": {
   "display_name": "Python 3",
   "language": "python",
   "name": "python3"
  },
  "language_info": {
   "codemirror_mode": {
    "name": "ipython",
    "version": 3
   },
   "file_extension": ".py",
   "mimetype": "text/x-python",
   "name": "python",
   "nbconvert_exporter": "python",
   "pygments_lexer": "ipython3",
   "version": "3.7.4"
  },
  "toc": {
   "base_numbering": 1,
   "nav_menu": {},
   "number_sections": true,
   "sideBar": true,
   "skip_h1_title": false,
   "title_cell": "Table of Contents",
   "title_sidebar": "Contents",
   "toc_cell": false,
   "toc_position": {},
   "toc_section_display": true,
   "toc_window_display": false
  }
 },
 "nbformat": 4,
 "nbformat_minor": 2
}
