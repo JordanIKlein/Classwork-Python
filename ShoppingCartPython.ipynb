{
 "cells": [
  {
   "cell_type": "markdown",
   "metadata": {
    "colab_type": "text",
    "id": "hbvijJOK65OW"
   },
   "source": [
    "## Assignment 02 Shopping Cart\n",
    "By: Professor James G. Shanahan\n",
    "Student Name: Jordan Klein\n",
    "Email: jklein@bryant.edu\n",
    "\n",
    "Date completed: Sept 11, 2019\n",
    "\n",
    "Please complete all tasks in this notebook and then upload it  on Canvas once completed."
   ]
  },
  {
   "cell_type": "markdown",
   "metadata": {
    "colab_type": "text",
    "id": "523u0R8_7d3m"
   },
   "source": [
    "# Task\n",
    "\n",
    "Use this Jupyter Notebook to perform the following task: Write pyton that keeps track of a running total of items the user is purchasing (shopping cart). This will allow the user to keep track of the total so they aren't embarrassed at the cash register by not having enough `$`. The program should first ask the user how much $ they have - this is the upper limit of how much they can spend. Then create a loop that asks the user to write in the description of the item, the item price, and the quantity. After an items is entered, print out the detail line (description \"Added to cart\", quantity, amount, total) and print the total of the entire bill along with how much money they have remaining. If the user goes over their limit then warn them and tell them to put the last item away.\n",
    "\n",
    "If multiple quantities pushed them over the top then calculate how many they could buy and tell them that (and adjust it accordingly). For example, the cart total is `$80` and they have `$90` to spend, they enter `\"Books\"` with a value of `$4.99` and a quantity of 4 (for an item total of `$19.96`. This would bring the total bill to `$99.96` or `$9.96` over the budget. Tell them they you have adjusted the quantity to 2 and they have to put 2 back in order to stay under the budget.\n",
    "\n",
    "You must use the following somewhere in your code:\n",
    "\n",
    "* title() # Title function in python is the Python String Method which is used to convert the first character in each word to Uppercase and remaining characters to Lowercase in string and returns new string.YES\n",
    "* upper() YES\n",
    "* list container with a simple list record structure YES \n",
    "   * ```python\n",
    "[ [\"item description\", $1.03, 2], [],...]. YES\n",
    "```\n",
    "\n",
    "* lower()YES\n",
    "* one of the whitespace strips (rstrip, lstrip, or strip) YES\n",
    "* `\\n` or `\\t`YES\n",
    "* f-strings YES\n",
    "* Input() # Python provides this built-in functions to read the input from the keyboard. YES\n",
    "* An integer, a float, and a string YES\n",
    "* Please define function(s) as needed. E.g, def take_order():, print_cart(cart): YES\n",
    "* Doc string for for functions YES\n",
    "* PLEASE USE MARKDOWN with headings (level-1, level-2, level3) and normal paragraph text.\n",
    "\n",
    "Make sure to test for invalid entries (things can't be negative for example) and give the user a way to get out of the program. Make this as user friendly as possible, YES\n",
    "\n",
    "Make sure you have appropriate comments in your code."
   ]
  },
  {
   "cell_type": "markdown",
   "metadata": {},
   "source": [
    "# Task: fill in your solution\n",
    "Below is my solution to this task "
   ]
  },
  {
   "cell_type": "code",
   "execution_count": 1,
   "metadata": {
    "colab": {
     "base_uri": "https://localhost:8080/",
     "height": 35
    },
    "colab_type": "code",
    "id": "FjG6cPsF7rdj",
    "outputId": "dbda4a55-6407-4546-870e-3c5dc1912cb1"
   },
   "outputs": [
    {
     "name": "stdout",
     "output_type": "stream",
     "text": [
      "cart: [['item description', 1.03, 2], ['item description 222', 4.03, 1], ['item description 222', 4.03, 1], ['item description 222', 4.03, 1]]\n"
     ]
    }
   ],
   "source": [
    "# use a list to represent your shopping cart\n",
    "# feel free to use create a class but it is not necessary.\n",
    "\n",
    "\n",
    "\n",
    "def take_order(budget):\n",
    "    \"\"\"\n",
    "    take order..... must complete this doc_string\n",
    "\n",
    "    Returns\n",
    "    -------\n",
    "    xxxx : xxxx TODO\n",
    "    \"\"\"\n",
    "    cart = []\n",
    "    cart.append([\"item description\", 1.03, 2])\n",
    "    cart.append([\"item description 222\", 4.03, 1])\n",
    "    cart.append([\"item description 222\", 4.03, 1])\n",
    "    cart.append([\"item description 222\", 4.03, 1])\n",
    "    \n",
    "\n",
    "    return cart\n",
    "budget = 1 #get from user\n",
    "cart = take_order(budget)\n",
    "print(f\"cart: {cart}\")"
   ]
  },
  {
   "cell_type": "markdown",
   "metadata": {},
   "source": [
    "# Task: Include a sample run\n",
    "Please include a sample run of your shopping cart with all the input and output trace.\n"
   ]
  },
  {
   "cell_type": "code",
   "execution_count": 3,
   "metadata": {
    "code_folding": []
   },
   "outputs": [
    {
     "name": "stdout",
     "output_type": "stream",
     "text": [
      "WELCOME TO STOP AND SHOP! WHAT IS YOUR BUDGET?\n",
      "Enter your budget:5\n",
      "Great! Thank you for updating your budget: $5.0 \n",
      "Please add an item to the cart by inputting a description, price, and quantity.\n",
      "Enter the description: eggs\n",
      "Enter the price: 1\n",
      "Enter the quantity: 2\n",
      "|You added: Eggs|\n",
      "|Quantity: 2|\n",
      "|Amount: $2.0|\n",
      "|Your overall balance left is $3.0|\n",
      "This is your cart: [['eggs', 1.0, 2]]\n",
      "Would you like to add another item? 1 = Yes or 2 = No.2\n",
      "This is your cart: [['eggs', 1.0, 2]] \n",
      "Thank you for shopping with us! Come again!\n"
     ]
    }
   ],
   "source": [
    "cart = []\n",
    "budget = 0\n",
    "''' User begins by entering the budget'''\n",
    "text = str(\"Welcome to Stop and Shop! What is your budget?\")\n",
    "print(text.upper())\n",
    "while budget == 0: \n",
    "    try:\n",
    "        budget = float(input(\"Enter your budget:\"))\n",
    "        break\n",
    "    except ValueError:\n",
    "        print(f\"Budget cannot be 0.\")\n",
    "    except ValueError:\n",
    "        budget = 0\n",
    "print(f\"Great! Thank you for updating your budget: ${budget} \\nPlease add an item to the cart by inputting a description, price, and quantity.\")\n",
    "\n",
    "''' Once they have entered their shopping cart budget they are directed to enter items.'''\n",
    "\n",
    "def take_order(budget):\n",
    "    global cart \n",
    "    while True:\n",
    "                    description = str(input(f\"Enter the description: \"))\n",
    "                    while True:\n",
    "                        try:\n",
    "                            price = float(input(f\"Enter the price: \"))\n",
    "                            break #break out of the while loop\n",
    "                        except ValueError:\n",
    "                            print(f\"Oops! That was not valid. Try again please...\")\n",
    "                        except TypeError:\n",
    "                            print(f\"Oops! That was not valid. Try again please...\")\n",
    "                    while True:\n",
    "                        try:\n",
    "                            quantity = int(input(f\"Enter the quantity: \"))\n",
    "                            break #break out of the while loop\n",
    "                        except ValueError:\n",
    "                            print(f\"Oops! That was not valid. Try again please...\") \n",
    "                    counter = 0\n",
    "                    amountadded = price * quantity\n",
    "                    remaining = budget - amountadded\n",
    "                    ''' Once the adjustments are made, the user is given the opportunity to continue on and add another item or finish shopping'''\n",
    "                    if remaining >= 0:\n",
    "                        cart.append([description, price, quantity])\n",
    "                        print(f\"|You added: {description.title()}|\\n|Quantity: {quantity}|\\n|Amount: ${amountadded}|\\n|Your overall balance left is ${round(remaining,2)}|\")\n",
    "                        print(f\"This is your cart: {cart}\")\n",
    "                        answer = int(input(f\"Would you like to add another item? 1 = Yes or 2 = No.\"))\n",
    "                        if answer == 1 and remaining > 0:\n",
    "                                    budget = remaining\n",
    "                                    cart = take_order(budget) \n",
    "                        elif answer == 2 or remaining < 0:\n",
    "                                print(f\"This is your cart: {cart} \\nThank you for shopping with us! Come again!\")\n",
    "                                return cart\n",
    "                                break\n",
    "                        else:\n",
    "                                print(f\"You are out of money.\") \n",
    "                                return cart\n",
    "                                break\n",
    "                    if remaining < 0: ''' incase your balance is over your budget it will automatically be placed back and get rid of one quantity of the last item until your budget is in the black'''\n",
    "                    print(f\"This is a warning. You do not have sufficient funds.\\nYou went over ${abs(round(remaining,2))}\")\n",
    "                    while True:\n",
    "                            quantity = quantity - 1\n",
    "                            counter = counter + 1\n",
    "                            amountadded = price * quantity\n",
    "                            remaining = budget - amountadded\n",
    "                            if remaining >= 0:\n",
    "                                            cart.append([description, price, quantity])\n",
    "                                            print (f\"We took {counter} item(s) away to meet your budget.\")\n",
    "                                            print(f\"|You added: {description.title()}|\\n|Quantity: {quantity}|\\n|Amount: ${amountadded}|\\n|Your overall balance left is ${round(remaining,2)}|\")\n",
    "                                            print(f\"This is your cart: {cart}\")\n",
    "                                            answer = int(input(f\"Would you like to add another item? 1 = Yes or 2 = No.\"))\n",
    "                                            if answer == 1 and remaining > 0:\n",
    "                                                budget = remaining\n",
    "                                                cart = take_order(budget) \n",
    "                                            elif answer == 2 or remaining < 0:\n",
    "                                                print(f\"This is your cart: {cart} \\nThank you for shopping with us! Come again!\")\n",
    "                                                return cart\n",
    "                                                break\n",
    "                                            else:\n",
    "                                                print(f\"You are out of money.\")\n",
    "                                                return cart\n",
    "                                                break\n",
    "                                                \n",
    "cart = take_order(budget)          "
   ]
  },
  {
   "cell_type": "markdown",
   "metadata": {},
   "source": [
    "## Optional bonus Tasks\n",
    "\n",
    "* Error checking (avoid crashing out and provide useful help messages when the input strings are not to code)\n",
    "* Rewrite the above tasks in an object oriented way using  a classes (one class should suffice, e.g., sh"
   ]
  },
  {
   "cell_type": "code",
   "execution_count": null,
   "metadata": {},
   "outputs": [],
   "source": []
  }
 ],
 "metadata": {
  "colab": {
   "collapsed_sections": [],
   "name": "Module_01_Lab01",
   "provenance": [],
   "version": "0.3.2"
  },
  "kernelspec": {
   "display_name": "Python 3",
   "language": "python",
   "name": "python3"
  },
  "language_info": {
   "codemirror_mode": {
    "name": "ipython",
    "version": 3
   },
   "file_extension": ".py",
   "mimetype": "text/x-python",
   "name": "python",
   "nbconvert_exporter": "python",
   "pygments_lexer": "ipython3",
   "version": "3.7.4"
  },
  "toc": {
   "base_numbering": 1,
   "nav_menu": {},
   "number_sections": true,
   "sideBar": true,
   "skip_h1_title": false,
   "title_cell": "Table of Contents",
   "title_sidebar": "Contents",
   "toc_cell": false,
   "toc_position": {},
   "toc_section_display": true,
   "toc_window_display": false
  }
 },
 "nbformat": 4,
 "nbformat_minor": 1
}
